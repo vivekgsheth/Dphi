{
  "nbformat": 4,
  "nbformat_minor": 0,
  "metadata": {
    "colab": {
      "name": "DL_Heart_disease_prediction.ipynb",
      "provenance": [],
      "collapsed_sections": []
    },
    "kernelspec": {
      "name": "python3",
      "display_name": "Python 3"
    }
  },
  "cells": [
    {
      "cell_type": "code",
      "metadata": {
        "id": "02l18ye0S7Su",
        "colab_type": "code",
        "colab": {}
      },
      "source": [
        "import numpy as np\n",
        "import pandas as pd\n",
        "import matplotlib.pyplot as plt\n",
        "from sklearn.model_selection import train_test_split"
      ],
      "execution_count": null,
      "outputs": []
    },
    {
      "cell_type": "code",
      "metadata": {
        "id": "cBlbzVYkbGed",
        "colab_type": "code",
        "colab": {
          "base_uri": "https://localhost:8080/",
          "height": 204
        },
        "outputId": "18bc5c1d-3996-4128-e770-e68d04150ac8"
      },
      "source": [
        "data = pd.read_csv(\"https://raw.githubusercontent.com/dphi-official/Datasets/master/heart_disease.csv\")\n",
        "data.head()"
      ],
      "execution_count": null,
      "outputs": [
        {
          "output_type": "execute_result",
          "data": {
            "text/html": [
              "<div>\n",
              "<style scoped>\n",
              "    .dataframe tbody tr th:only-of-type {\n",
              "        vertical-align: middle;\n",
              "    }\n",
              "\n",
              "    .dataframe tbody tr th {\n",
              "        vertical-align: top;\n",
              "    }\n",
              "\n",
              "    .dataframe thead th {\n",
              "        text-align: right;\n",
              "    }\n",
              "</style>\n",
              "<table border=\"1\" class=\"dataframe\">\n",
              "  <thead>\n",
              "    <tr style=\"text-align: right;\">\n",
              "      <th></th>\n",
              "      <th>age</th>\n",
              "      <th>sex</th>\n",
              "      <th>cp</th>\n",
              "      <th>trestbps</th>\n",
              "      <th>chol</th>\n",
              "      <th>fbs</th>\n",
              "      <th>restecg</th>\n",
              "      <th>thalach</th>\n",
              "      <th>exang</th>\n",
              "      <th>oldpeak</th>\n",
              "      <th>slope</th>\n",
              "      <th>ca</th>\n",
              "      <th>thal</th>\n",
              "      <th>target</th>\n",
              "    </tr>\n",
              "  </thead>\n",
              "  <tbody>\n",
              "    <tr>\n",
              "      <th>0</th>\n",
              "      <td>63</td>\n",
              "      <td>1</td>\n",
              "      <td>3</td>\n",
              "      <td>145</td>\n",
              "      <td>233</td>\n",
              "      <td>1</td>\n",
              "      <td>0</td>\n",
              "      <td>150</td>\n",
              "      <td>0</td>\n",
              "      <td>2.3</td>\n",
              "      <td>0</td>\n",
              "      <td>0</td>\n",
              "      <td>1</td>\n",
              "      <td>1</td>\n",
              "    </tr>\n",
              "    <tr>\n",
              "      <th>1</th>\n",
              "      <td>37</td>\n",
              "      <td>1</td>\n",
              "      <td>2</td>\n",
              "      <td>130</td>\n",
              "      <td>250</td>\n",
              "      <td>0</td>\n",
              "      <td>1</td>\n",
              "      <td>187</td>\n",
              "      <td>0</td>\n",
              "      <td>3.5</td>\n",
              "      <td>0</td>\n",
              "      <td>0</td>\n",
              "      <td>2</td>\n",
              "      <td>1</td>\n",
              "    </tr>\n",
              "    <tr>\n",
              "      <th>2</th>\n",
              "      <td>41</td>\n",
              "      <td>0</td>\n",
              "      <td>1</td>\n",
              "      <td>130</td>\n",
              "      <td>204</td>\n",
              "      <td>0</td>\n",
              "      <td>0</td>\n",
              "      <td>172</td>\n",
              "      <td>0</td>\n",
              "      <td>1.4</td>\n",
              "      <td>2</td>\n",
              "      <td>0</td>\n",
              "      <td>2</td>\n",
              "      <td>1</td>\n",
              "    </tr>\n",
              "    <tr>\n",
              "      <th>3</th>\n",
              "      <td>56</td>\n",
              "      <td>1</td>\n",
              "      <td>1</td>\n",
              "      <td>120</td>\n",
              "      <td>236</td>\n",
              "      <td>0</td>\n",
              "      <td>1</td>\n",
              "      <td>178</td>\n",
              "      <td>0</td>\n",
              "      <td>0.8</td>\n",
              "      <td>2</td>\n",
              "      <td>0</td>\n",
              "      <td>2</td>\n",
              "      <td>1</td>\n",
              "    </tr>\n",
              "    <tr>\n",
              "      <th>4</th>\n",
              "      <td>57</td>\n",
              "      <td>0</td>\n",
              "      <td>0</td>\n",
              "      <td>120</td>\n",
              "      <td>354</td>\n",
              "      <td>0</td>\n",
              "      <td>1</td>\n",
              "      <td>163</td>\n",
              "      <td>1</td>\n",
              "      <td>0.6</td>\n",
              "      <td>2</td>\n",
              "      <td>0</td>\n",
              "      <td>2</td>\n",
              "      <td>1</td>\n",
              "    </tr>\n",
              "  </tbody>\n",
              "</table>\n",
              "</div>"
            ],
            "text/plain": [
              "   age  sex  cp  trestbps  chol  fbs  ...  exang  oldpeak  slope  ca  thal  target\n",
              "0   63    1   3       145   233    1  ...      0      2.3      0   0     1       1\n",
              "1   37    1   2       130   250    0  ...      0      3.5      0   0     2       1\n",
              "2   41    0   1       130   204    0  ...      0      1.4      2   0     2       1\n",
              "3   56    1   1       120   236    0  ...      0      0.8      2   0     2       1\n",
              "4   57    0   0       120   354    0  ...      1      0.6      2   0     2       1\n",
              "\n",
              "[5 rows x 14 columns]"
            ]
          },
          "metadata": {
            "tags": []
          },
          "execution_count": 3
        }
      ]
    },
    {
      "cell_type": "code",
      "metadata": {
        "id": "yoDr_qL5bg2m",
        "colab_type": "code",
        "colab": {
          "base_uri": "https://localhost:8080/",
          "height": 34
        },
        "outputId": "96dc99bd-1219-4c52-8331-3cf4af5f43b3"
      },
      "source": [
        "data.shape"
      ],
      "execution_count": null,
      "outputs": [
        {
          "output_type": "execute_result",
          "data": {
            "text/plain": [
              "(303, 14)"
            ]
          },
          "metadata": {
            "tags": []
          },
          "execution_count": 4
        }
      ]
    },
    {
      "cell_type": "code",
      "metadata": {
        "id": "VtohWLjRbiTZ",
        "colab_type": "code",
        "colab": {}
      },
      "source": [
        "X=data.drop(\"target\",axis=1)\n",
        "y=data['target']\n",
        "\n",
        "X_train,X_test,y_train,y_test = train_test_split(X,y,test_size=0.2,random_state=42)\n"
      ],
      "execution_count": null,
      "outputs": []
    },
    {
      "cell_type": "code",
      "metadata": {
        "id": "OUg-kZ22cfjW",
        "colab_type": "code",
        "colab": {
          "base_uri": "https://localhost:8080/",
          "height": 34
        },
        "outputId": "f94bf4ee-bcc0-4611-ab08-e6d619ab6893"
      },
      "source": [
        "X_train.shape"
      ],
      "execution_count": null,
      "outputs": [
        {
          "output_type": "execute_result",
          "data": {
            "text/plain": [
              "(242, 13)"
            ]
          },
          "metadata": {
            "tags": []
          },
          "execution_count": 7
        }
      ]
    },
    {
      "cell_type": "code",
      "metadata": {
        "id": "raHnJ3mZcjoY",
        "colab_type": "code",
        "colab": {}
      },
      "source": [
        "import tensorflow as tf\n",
        "from tensorflow import keras\n",
        "from tensorflow.keras import Sequential\n",
        "from tensorflow.keras import layers\n",
        "from tensorflow.keras.layers import Dense"
      ],
      "execution_count": null,
      "outputs": []
    },
    {
      "cell_type": "code",
      "metadata": {
        "id": "0xkDUVfUc7eq",
        "colab_type": "code",
        "colab": {
          "base_uri": "https://localhost:8080/",
          "height": 289
        },
        "outputId": "759fa332-444c-4550-b128-cf541e394555"
      },
      "source": [
        "model = Sequential()\n",
        "model.add(Dense(32 ,activation=\"relu\", input_shape=(X_train.shape[1],)))\n",
        "model.add(Dense(16 ,activation=\"relu\"))\n",
        "model.add(Dense(8 ,activation=\"relu\"))\n",
        "model.add(Dense(1 ,activation=\"sigmoid\"))\n",
        "model.summary()"
      ],
      "execution_count": null,
      "outputs": [
        {
          "output_type": "stream",
          "text": [
            "Model: \"sequential_2\"\n",
            "_________________________________________________________________\n",
            "Layer (type)                 Output Shape              Param #   \n",
            "=================================================================\n",
            "dense_1 (Dense)              (None, 32)                448       \n",
            "_________________________________________________________________\n",
            "dense_2 (Dense)              (None, 16)                528       \n",
            "_________________________________________________________________\n",
            "dense_3 (Dense)              (None, 8)                 136       \n",
            "_________________________________________________________________\n",
            "dense_4 (Dense)              (None, 1)                 9         \n",
            "=================================================================\n",
            "Total params: 1,121\n",
            "Trainable params: 1,121\n",
            "Non-trainable params: 0\n",
            "_________________________________________________________________\n"
          ],
          "name": "stdout"
        }
      ]
    },
    {
      "cell_type": "code",
      "metadata": {
        "id": "XY9zp3U_dgfd",
        "colab_type": "code",
        "colab": {
          "base_uri": "https://localhost:8080/",
          "height": 466
        },
        "outputId": "cfc26f3d-7915-4984-ce6c-a723ec4a411c"
      },
      "source": [
        "from tensorflow.keras.utils import plot_model\n",
        "plot_model(model)"
      ],
      "execution_count": null,
      "outputs": [
        {
          "output_type": "execute_result",
          "data": {
            "image/png": "[encoded data removed]",
            "text/plain": [
              "<IPython.core.display.Image object>"
            ]
          },
          "metadata": {
            "tags": []
          },
          "execution_count": 13
        }
      ]
    },
    {
      "cell_type": "code",
      "metadata": {
        "id": "L98BmucMeXYT",
        "colab_type": "code",
        "colab": {}
      },
      "source": [
        "from tensorflow.keras.optimizers import RMSprop\n",
        "\n",
        "optimizer = RMSprop(0.001)\n",
        "model.compile(loss=\"binary_crossentropy\", optimizer=optimizer, metrics =[\"accuracy\"])"
      ],
      "execution_count": null,
      "outputs": []
    },
    {
      "cell_type": "code",
      "metadata": {
        "id": "OTdw6gbbetjJ",
        "colab_type": "code",
        "colab": {
          "base_uri": "https://localhost:8080/",
          "height": 1000
        },
        "outputId": "cd246cd1-a95b-4005-e483-9c8b6d853976"
      },
      "source": [
        "# cb = keras.callbacks.EarlyStopping(monitor=\"val_loss\",mode=\"min\")\n",
        "history = model.fit(X_train ,y_train, epochs=200, batch_size=10, verbose=1, validation_split=0.2)"
      ],
      "execution_count": null,
      "outputs": [
        {
          "output_type": "stream",
          "text": [
            "Epoch 1/200\n",
            "20/20 [==============================] - 0s 4ms/step - loss: 0.1615 - accuracy: 0.9378 - val_loss: 1.1493 - val_accuracy: 0.7755\n",
            "Epoch 2/200\n",
            "20/20 [==============================] - 0s 2ms/step - loss: 0.1145 - accuracy: 0.9637 - val_loss: 1.1220 - val_accuracy: 0.7347\n",
            "Epoch 3/200\n",
            "20/20 [==============================] - 0s 2ms/step - loss: 0.1483 - accuracy: 0.9326 - val_loss: 0.8475 - val_accuracy: 0.7959\n",
            "Epoch 4/200\n",
            "20/20 [==============================] - 0s 2ms/step - loss: 0.1471 - accuracy: 0.9171 - val_loss: 0.8933 - val_accuracy: 0.7347\n",
            "Epoch 5/200\n",
            "20/20 [==============================] - 0s 2ms/step - loss: 0.1359 - accuracy: 0.9430 - val_loss: 0.7492 - val_accuracy: 0.7959\n",
            "Epoch 6/200\n",
            "20/20 [==============================] - 0s 2ms/step - loss: 0.1672 - accuracy: 0.9223 - val_loss: 1.1913 - val_accuracy: 0.7551\n",
            "Epoch 7/200\n",
            "20/20 [==============================] - 0s 2ms/step - loss: 0.1949 - accuracy: 0.9275 - val_loss: 1.5156 - val_accuracy: 0.7347\n",
            "Epoch 8/200\n",
            "20/20 [==============================] - 0s 2ms/step - loss: 0.1493 - accuracy: 0.9326 - val_loss: 0.9495 - val_accuracy: 0.7755\n",
            "Epoch 9/200\n",
            "20/20 [==============================] - 0s 2ms/step - loss: 0.2186 - accuracy: 0.9326 - val_loss: 1.0492 - val_accuracy: 0.7143\n",
            "Epoch 10/200\n",
            "20/20 [==============================] - 0s 2ms/step - loss: 0.1035 - accuracy: 0.9534 - val_loss: 1.1329 - val_accuracy: 0.7347\n",
            "Epoch 11/200\n",
            "20/20 [==============================] - 0s 2ms/step - loss: 0.2295 - accuracy: 0.9171 - val_loss: 1.7026 - val_accuracy: 0.7143\n",
            "Epoch 12/200\n",
            "20/20 [==============================] - 0s 2ms/step - loss: 0.1319 - accuracy: 0.9430 - val_loss: 1.1296 - val_accuracy: 0.7959\n",
            "Epoch 13/200\n",
            "20/20 [==============================] - 0s 2ms/step - loss: 0.1376 - accuracy: 0.9171 - val_loss: 0.8202 - val_accuracy: 0.7551\n",
            "Epoch 14/200\n",
            "20/20 [==============================] - 0s 2ms/step - loss: 0.1296 - accuracy: 0.9378 - val_loss: 1.1888 - val_accuracy: 0.7551\n",
            "Epoch 15/200\n",
            "20/20 [==============================] - 0s 2ms/step - loss: 0.1543 - accuracy: 0.9171 - val_loss: 1.1263 - val_accuracy: 0.7143\n",
            "Epoch 16/200\n",
            "20/20 [==============================] - 0s 2ms/step - loss: 0.1461 - accuracy: 0.9326 - val_loss: 1.0832 - val_accuracy: 0.7347\n",
            "Epoch 17/200\n",
            "20/20 [==============================] - 0s 2ms/step - loss: 0.1201 - accuracy: 0.9378 - val_loss: 1.1554 - val_accuracy: 0.6939\n",
            "Epoch 18/200\n",
            "20/20 [==============================] - 0s 2ms/step - loss: 0.1564 - accuracy: 0.9326 - val_loss: 1.0464 - val_accuracy: 0.7755\n",
            "Epoch 19/200\n",
            "20/20 [==============================] - 0s 2ms/step - loss: 0.3032 - accuracy: 0.8653 - val_loss: 0.8794 - val_accuracy: 0.7347\n",
            "Epoch 20/200\n",
            "20/20 [==============================] - 0s 2ms/step - loss: 0.1126 - accuracy: 0.9430 - val_loss: 1.0675 - val_accuracy: 0.7551\n",
            "Epoch 21/200\n",
            "20/20 [==============================] - 0s 2ms/step - loss: 0.1392 - accuracy: 0.9119 - val_loss: 1.0706 - val_accuracy: 0.7347\n",
            "Epoch 22/200\n",
            "20/20 [==============================] - 0s 2ms/step - loss: 0.1260 - accuracy: 0.9326 - val_loss: 0.8874 - val_accuracy: 0.7755\n",
            "Epoch 23/200\n",
            "20/20 [==============================] - 0s 2ms/step - loss: 0.1587 - accuracy: 0.9275 - val_loss: 1.1952 - val_accuracy: 0.7347\n",
            "Epoch 24/200\n",
            "20/20 [==============================] - 0s 2ms/step - loss: 0.1170 - accuracy: 0.9378 - val_loss: 0.8486 - val_accuracy: 0.7755\n",
            "Epoch 25/200\n",
            "20/20 [==============================] - 0s 2ms/step - loss: 0.1207 - accuracy: 0.9326 - val_loss: 0.8742 - val_accuracy: 0.7755\n",
            "Epoch 26/200\n",
            "20/20 [==============================] - 0s 2ms/step - loss: 0.1505 - accuracy: 0.9378 - val_loss: 1.0086 - val_accuracy: 0.7755\n",
            "Epoch 27/200\n",
            "20/20 [==============================] - 0s 2ms/step - loss: 0.2571 - accuracy: 0.9223 - val_loss: 0.7544 - val_accuracy: 0.7959\n",
            "Epoch 28/200\n",
            "20/20 [==============================] - 0s 2ms/step - loss: 0.1526 - accuracy: 0.9430 - val_loss: 1.1496 - val_accuracy: 0.7143\n",
            "Epoch 29/200\n",
            "20/20 [==============================] - 0s 2ms/step - loss: 0.1415 - accuracy: 0.9326 - val_loss: 1.0033 - val_accuracy: 0.7551\n",
            "Epoch 30/200\n",
            "20/20 [==============================] - 0s 2ms/step - loss: 0.1742 - accuracy: 0.9171 - val_loss: 1.0571 - val_accuracy: 0.7551\n",
            "Epoch 31/200\n",
            "20/20 [==============================] - 0s 2ms/step - loss: 0.1436 - accuracy: 0.9326 - val_loss: 1.0620 - val_accuracy: 0.7551\n",
            "Epoch 32/200\n",
            "20/20 [==============================] - 0s 2ms/step - loss: 0.1217 - accuracy: 0.9326 - val_loss: 1.2815 - val_accuracy: 0.6735\n",
            "Epoch 33/200\n",
            "20/20 [==============================] - 0s 2ms/step - loss: 0.1590 - accuracy: 0.9119 - val_loss: 0.9887 - val_accuracy: 0.7347\n",
            "Epoch 34/200\n",
            "20/20 [==============================] - 0s 2ms/step - loss: 0.1903 - accuracy: 0.9275 - val_loss: 1.1168 - val_accuracy: 0.7347\n",
            "Epoch 35/200\n",
            "20/20 [==============================] - 0s 2ms/step - loss: 0.1395 - accuracy: 0.9430 - val_loss: 1.1619 - val_accuracy: 0.7551\n",
            "Epoch 36/200\n",
            "20/20 [==============================] - 0s 2ms/step - loss: 0.1435 - accuracy: 0.9275 - val_loss: 1.0607 - val_accuracy: 0.7347\n",
            "Epoch 37/200\n",
            "20/20 [==============================] - 0s 2ms/step - loss: 0.1655 - accuracy: 0.9482 - val_loss: 0.8481 - val_accuracy: 0.7755\n",
            "Epoch 38/200\n",
            "20/20 [==============================] - 0s 2ms/step - loss: 0.1358 - accuracy: 0.9275 - val_loss: 1.0751 - val_accuracy: 0.7755\n",
            "Epoch 39/200\n",
            "20/20 [==============================] - 0s 2ms/step - loss: 0.1905 - accuracy: 0.9067 - val_loss: 0.8972 - val_accuracy: 0.7755\n",
            "Epoch 40/200\n",
            "20/20 [==============================] - 0s 2ms/step - loss: 0.1489 - accuracy: 0.9326 - val_loss: 0.9586 - val_accuracy: 0.7143\n",
            "Epoch 41/200\n",
            "20/20 [==============================] - 0s 2ms/step - loss: 0.1274 - accuracy: 0.9430 - val_loss: 1.0907 - val_accuracy: 0.7143\n",
            "Epoch 42/200\n",
            "20/20 [==============================] - 0s 2ms/step - loss: 0.1279 - accuracy: 0.9430 - val_loss: 0.8874 - val_accuracy: 0.7959\n",
            "Epoch 43/200\n",
            "20/20 [==============================] - 0s 2ms/step - loss: 0.1217 - accuracy: 0.9430 - val_loss: 1.1977 - val_accuracy: 0.7551\n",
            "Epoch 44/200\n",
            "20/20 [==============================] - 0s 2ms/step - loss: 0.1632 - accuracy: 0.9223 - val_loss: 0.9685 - val_accuracy: 0.7551\n",
            "Epoch 45/200\n",
            "20/20 [==============================] - 0s 2ms/step - loss: 0.1824 - accuracy: 0.9275 - val_loss: 0.9813 - val_accuracy: 0.7755\n",
            "Epoch 46/200\n",
            "20/20 [==============================] - 0s 2ms/step - loss: 0.1308 - accuracy: 0.9275 - val_loss: 1.0812 - val_accuracy: 0.7143\n",
            "Epoch 47/200\n",
            "20/20 [==============================] - 0s 2ms/step - loss: 0.1160 - accuracy: 0.9585 - val_loss: 1.1730 - val_accuracy: 0.7347\n",
            "Epoch 48/200\n",
            "20/20 [==============================] - 0s 2ms/step - loss: 0.2001 - accuracy: 0.9223 - val_loss: 1.0675 - val_accuracy: 0.7551\n",
            "Epoch 49/200\n",
            "20/20 [==============================] - 0s 2ms/step - loss: 0.1005 - accuracy: 0.9482 - val_loss: 1.0901 - val_accuracy: 0.7347\n",
            "Epoch 50/200\n",
            "20/20 [==============================] - 0s 2ms/step - loss: 0.2094 - accuracy: 0.9326 - val_loss: 0.9814 - val_accuracy: 0.7755\n",
            "Epoch 51/200\n",
            "20/20 [==============================] - 0s 2ms/step - loss: 0.1241 - accuracy: 0.9378 - val_loss: 0.9025 - val_accuracy: 0.7755\n",
            "Epoch 52/200\n",
            "20/20 [==============================] - 0s 2ms/step - loss: 0.1291 - accuracy: 0.9482 - val_loss: 0.9440 - val_accuracy: 0.7551\n",
            "Epoch 53/200\n",
            "20/20 [==============================] - 0s 2ms/step - loss: 0.1608 - accuracy: 0.9171 - val_loss: 0.9550 - val_accuracy: 0.7143\n",
            "Epoch 54/200\n",
            "20/20 [==============================] - 0s 2ms/step - loss: 0.1272 - accuracy: 0.9378 - val_loss: 0.9489 - val_accuracy: 0.7551\n",
            "Epoch 55/200\n",
            "20/20 [==============================] - 0s 2ms/step - loss: 0.1379 - accuracy: 0.9430 - val_loss: 0.9208 - val_accuracy: 0.7551\n",
            "Epoch 56/200\n",
            "20/20 [==============================] - 0s 2ms/step - loss: 0.1522 - accuracy: 0.9275 - val_loss: 1.0265 - val_accuracy: 0.7959\n",
            "Epoch 57/200\n",
            "20/20 [==============================] - 0s 2ms/step - loss: 0.1007 - accuracy: 0.9482 - val_loss: 1.1690 - val_accuracy: 0.7551\n",
            "Epoch 58/200\n",
            "20/20 [==============================] - 0s 2ms/step - loss: 0.1734 - accuracy: 0.9378 - val_loss: 1.0655 - val_accuracy: 0.7755\n",
            "Epoch 59/200\n",
            "20/20 [==============================] - 0s 2ms/step - loss: 0.1226 - accuracy: 0.9482 - val_loss: 1.1627 - val_accuracy: 0.7755\n",
            "Epoch 60/200\n",
            "20/20 [==============================] - 0s 2ms/step - loss: 0.1472 - accuracy: 0.9326 - val_loss: 1.0816 - val_accuracy: 0.7959\n",
            "Epoch 61/200\n",
            "20/20 [==============================] - 0s 2ms/step - loss: 0.2036 - accuracy: 0.9223 - val_loss: 1.2244 - val_accuracy: 0.7551\n",
            "Epoch 62/200\n",
            "20/20 [==============================] - 0s 2ms/step - loss: 0.1851 - accuracy: 0.9275 - val_loss: 0.8922 - val_accuracy: 0.7551\n",
            "Epoch 63/200\n",
            "20/20 [==============================] - 0s 2ms/step - loss: 0.1671 - accuracy: 0.9275 - val_loss: 1.0647 - val_accuracy: 0.7551\n",
            "Epoch 64/200\n",
            "20/20 [==============================] - 0s 2ms/step - loss: 0.1341 - accuracy: 0.9378 - val_loss: 0.9166 - val_accuracy: 0.7959\n",
            "Epoch 65/200\n",
            "20/20 [==============================] - 0s 2ms/step - loss: 0.0878 - accuracy: 0.9637 - val_loss: 1.1295 - val_accuracy: 0.7959\n",
            "Epoch 66/200\n",
            "20/20 [==============================] - 0s 2ms/step - loss: 0.2314 - accuracy: 0.8912 - val_loss: 0.9420 - val_accuracy: 0.7551\n",
            "Epoch 67/200\n",
            "20/20 [==============================] - 0s 2ms/step - loss: 0.1525 - accuracy: 0.9378 - val_loss: 0.9147 - val_accuracy: 0.7959\n",
            "Epoch 68/200\n",
            "20/20 [==============================] - 0s 2ms/step - loss: 0.1496 - accuracy: 0.9326 - val_loss: 1.3535 - val_accuracy: 0.6939\n",
            "Epoch 69/200\n",
            "20/20 [==============================] - 0s 2ms/step - loss: 0.1633 - accuracy: 0.9275 - val_loss: 0.9690 - val_accuracy: 0.7551\n",
            "Epoch 70/200\n",
            "20/20 [==============================] - 0s 2ms/step - loss: 0.1877 - accuracy: 0.8964 - val_loss: 1.2307 - val_accuracy: 0.7347\n",
            "Epoch 71/200\n",
            "20/20 [==============================] - 0s 2ms/step - loss: 0.1913 - accuracy: 0.9119 - val_loss: 1.1079 - val_accuracy: 0.6939\n",
            "Epoch 72/200\n",
            "20/20 [==============================] - 0s 2ms/step - loss: 0.0974 - accuracy: 0.9637 - val_loss: 1.3818 - val_accuracy: 0.7347\n",
            "Epoch 73/200\n",
            "20/20 [==============================] - 0s 2ms/step - loss: 0.1965 - accuracy: 0.9275 - val_loss: 0.9388 - val_accuracy: 0.7551\n",
            "Epoch 74/200\n",
            "20/20 [==============================] - 0s 2ms/step - loss: 0.0990 - accuracy: 0.9534 - val_loss: 1.0100 - val_accuracy: 0.7959\n",
            "Epoch 75/200\n",
            "20/20 [==============================] - 0s 2ms/step - loss: 0.1503 - accuracy: 0.9223 - val_loss: 1.0274 - val_accuracy: 0.7959\n",
            "Epoch 76/200\n",
            "20/20 [==============================] - 0s 2ms/step - loss: 0.2277 - accuracy: 0.9067 - val_loss: 0.9094 - val_accuracy: 0.7551\n",
            "Epoch 77/200\n",
            "20/20 [==============================] - 0s 2ms/step - loss: 0.0923 - accuracy: 0.9585 - val_loss: 1.0429 - val_accuracy: 0.7347\n",
            "Epoch 78/200\n",
            "20/20 [==============================] - 0s 2ms/step - loss: 0.1352 - accuracy: 0.9326 - val_loss: 1.1302 - val_accuracy: 0.7347\n",
            "Epoch 79/200\n",
            "20/20 [==============================] - 0s 2ms/step - loss: 0.1382 - accuracy: 0.9378 - val_loss: 1.1450 - val_accuracy: 0.7959\n",
            "Epoch 80/200\n",
            "20/20 [==============================] - 0s 2ms/step - loss: 0.2336 - accuracy: 0.9016 - val_loss: 0.9342 - val_accuracy: 0.7551\n",
            "Epoch 81/200\n",
            "20/20 [==============================] - 0s 2ms/step - loss: 0.1095 - accuracy: 0.9430 - val_loss: 1.1642 - val_accuracy: 0.7347\n",
            "Epoch 82/200\n",
            "20/20 [==============================] - 0s 2ms/step - loss: 0.1767 - accuracy: 0.9171 - val_loss: 1.4044 - val_accuracy: 0.7959\n",
            "Epoch 83/200\n",
            "20/20 [==============================] - 0s 2ms/step - loss: 0.1329 - accuracy: 0.9326 - val_loss: 1.0586 - val_accuracy: 0.7347\n",
            "Epoch 84/200\n",
            "20/20 [==============================] - 0s 2ms/step - loss: 0.1834 - accuracy: 0.9223 - val_loss: 1.0852 - val_accuracy: 0.7755\n",
            "Epoch 85/200\n",
            "20/20 [==============================] - 0s 2ms/step - loss: 0.1819 - accuracy: 0.9326 - val_loss: 1.2281 - val_accuracy: 0.7347\n",
            "Epoch 86/200\n",
            "20/20 [==============================] - 0s 2ms/step - loss: 0.1056 - accuracy: 0.9430 - val_loss: 1.3036 - val_accuracy: 0.7143\n",
            "Epoch 87/200\n",
            "20/20 [==============================] - 0s 3ms/step - loss: 0.1238 - accuracy: 0.9326 - val_loss: 1.2175 - val_accuracy: 0.7551\n",
            "Epoch 88/200\n",
            "20/20 [==============================] - 0s 2ms/step - loss: 0.1842 - accuracy: 0.9275 - val_loss: 1.2024 - val_accuracy: 0.7755\n",
            "Epoch 89/200\n",
            "20/20 [==============================] - 0s 2ms/step - loss: 0.1123 - accuracy: 0.9430 - val_loss: 1.0800 - val_accuracy: 0.7551\n",
            "Epoch 90/200\n",
            "20/20 [==============================] - 0s 2ms/step - loss: 0.1567 - accuracy: 0.9326 - val_loss: 1.2413 - val_accuracy: 0.7551\n",
            "Epoch 91/200\n",
            "20/20 [==============================] - 0s 2ms/step - loss: 0.1263 - accuracy: 0.9378 - val_loss: 1.2808 - val_accuracy: 0.7551\n",
            "Epoch 92/200\n",
            "20/20 [==============================] - 0s 2ms/step - loss: 0.1249 - accuracy: 0.9378 - val_loss: 1.0941 - val_accuracy: 0.8163\n",
            "Epoch 93/200\n",
            "20/20 [==============================] - 0s 2ms/step - loss: 0.1507 - accuracy: 0.9275 - val_loss: 1.1143 - val_accuracy: 0.7755\n",
            "Epoch 94/200\n",
            "20/20 [==============================] - 0s 2ms/step - loss: 0.1768 - accuracy: 0.9223 - val_loss: 1.0148 - val_accuracy: 0.7551\n",
            "Epoch 95/200\n",
            "20/20 [==============================] - 0s 2ms/step - loss: 0.1097 - accuracy: 0.9482 - val_loss: 1.1857 - val_accuracy: 0.7755\n",
            "Epoch 96/200\n",
            "20/20 [==============================] - 0s 2ms/step - loss: 0.1087 - accuracy: 0.9430 - val_loss: 1.2296 - val_accuracy: 0.7551\n",
            "Epoch 97/200\n",
            "20/20 [==============================] - 0s 2ms/step - loss: 0.2214 - accuracy: 0.9171 - val_loss: 1.1089 - val_accuracy: 0.7755\n",
            "Epoch 98/200\n",
            "20/20 [==============================] - 0s 2ms/step - loss: 0.1951 - accuracy: 0.9119 - val_loss: 1.2924 - val_accuracy: 0.7347\n",
            "Epoch 99/200\n",
            "20/20 [==============================] - 0s 2ms/step - loss: 0.1254 - accuracy: 0.9482 - val_loss: 1.1312 - val_accuracy: 0.7551\n",
            "Epoch 100/200\n",
            "20/20 [==============================] - 0s 2ms/step - loss: 0.0981 - accuracy: 0.9637 - val_loss: 1.0340 - val_accuracy: 0.7755\n",
            "Epoch 101/200\n",
            "20/20 [==============================] - 0s 2ms/step - loss: 0.1501 - accuracy: 0.9378 - val_loss: 1.0802 - val_accuracy: 0.7143\n",
            "Epoch 102/200\n",
            "20/20 [==============================] - 0s 2ms/step - loss: 0.0950 - accuracy: 0.9430 - val_loss: 0.9504 - val_accuracy: 0.7347\n",
            "Epoch 103/200\n",
            "20/20 [==============================] - 0s 2ms/step - loss: 0.1221 - accuracy: 0.9378 - val_loss: 1.2301 - val_accuracy: 0.8163\n",
            "Epoch 104/200\n",
            "20/20 [==============================] - 0s 2ms/step - loss: 0.1261 - accuracy: 0.9430 - val_loss: 1.3008 - val_accuracy: 0.7143\n",
            "Epoch 105/200\n",
            "20/20 [==============================] - 0s 2ms/step - loss: 0.1561 - accuracy: 0.9326 - val_loss: 1.1979 - val_accuracy: 0.7959\n",
            "Epoch 106/200\n",
            "20/20 [==============================] - 0s 2ms/step - loss: 0.2578 - accuracy: 0.8912 - val_loss: 1.2609 - val_accuracy: 0.7347\n",
            "Epoch 107/200\n",
            "20/20 [==============================] - 0s 2ms/step - loss: 0.1028 - accuracy: 0.9534 - val_loss: 1.0405 - val_accuracy: 0.7347\n",
            "Epoch 108/200\n",
            "20/20 [==============================] - 0s 2ms/step - loss: 0.1063 - accuracy: 0.9378 - val_loss: 1.3380 - val_accuracy: 0.7551\n",
            "Epoch 109/200\n",
            "20/20 [==============================] - 0s 2ms/step - loss: 0.1675 - accuracy: 0.9275 - val_loss: 1.0920 - val_accuracy: 0.7551\n",
            "Epoch 110/200\n",
            "20/20 [==============================] - 0s 2ms/step - loss: 0.1128 - accuracy: 0.9482 - val_loss: 1.2689 - val_accuracy: 0.6939\n",
            "Epoch 111/200\n",
            "20/20 [==============================] - 0s 2ms/step - loss: 0.1579 - accuracy: 0.9430 - val_loss: 1.3746 - val_accuracy: 0.7347\n",
            "Epoch 112/200\n",
            "20/20 [==============================] - 0s 2ms/step - loss: 0.1502 - accuracy: 0.9326 - val_loss: 1.0164 - val_accuracy: 0.7551\n",
            "Epoch 113/200\n",
            "20/20 [==============================] - 0s 2ms/step - loss: 0.1079 - accuracy: 0.9430 - val_loss: 2.0494 - val_accuracy: 0.7143\n",
            "Epoch 114/200\n",
            "20/20 [==============================] - 0s 2ms/step - loss: 0.1587 - accuracy: 0.9119 - val_loss: 1.1466 - val_accuracy: 0.7143\n",
            "Epoch 115/200\n",
            "20/20 [==============================] - 0s 2ms/step - loss: 0.1259 - accuracy: 0.9534 - val_loss: 0.9978 - val_accuracy: 0.7551\n",
            "Epoch 116/200\n",
            "20/20 [==============================] - 0s 2ms/step - loss: 0.1924 - accuracy: 0.9482 - val_loss: 0.9052 - val_accuracy: 0.7551\n",
            "Epoch 117/200\n",
            "20/20 [==============================] - 0s 2ms/step - loss: 0.1139 - accuracy: 0.9482 - val_loss: 0.8706 - val_accuracy: 0.7347\n",
            "Epoch 118/200\n",
            "20/20 [==============================] - 0s 2ms/step - loss: 0.1958 - accuracy: 0.9119 - val_loss: 0.8569 - val_accuracy: 0.8163\n",
            "Epoch 119/200\n",
            "20/20 [==============================] - 0s 2ms/step - loss: 0.1292 - accuracy: 0.9275 - val_loss: 1.2531 - val_accuracy: 0.7347\n",
            "Epoch 120/200\n",
            "20/20 [==============================] - 0s 2ms/step - loss: 0.1146 - accuracy: 0.9378 - val_loss: 0.9764 - val_accuracy: 0.7347\n",
            "Epoch 121/200\n",
            "20/20 [==============================] - 0s 2ms/step - loss: 0.1148 - accuracy: 0.9585 - val_loss: 1.1962 - val_accuracy: 0.7755\n",
            "Epoch 122/200\n",
            "20/20 [==============================] - 0s 2ms/step - loss: 0.1617 - accuracy: 0.9119 - val_loss: 1.4090 - val_accuracy: 0.7755\n",
            "Epoch 123/200\n",
            "20/20 [==============================] - 0s 2ms/step - loss: 0.1616 - accuracy: 0.9430 - val_loss: 1.1837 - val_accuracy: 0.7551\n",
            "Epoch 124/200\n",
            "20/20 [==============================] - 0s 2ms/step - loss: 0.1018 - accuracy: 0.9482 - val_loss: 1.2246 - val_accuracy: 0.7959\n",
            "Epoch 125/200\n",
            "20/20 [==============================] - 0s 2ms/step - loss: 0.1352 - accuracy: 0.9534 - val_loss: 1.1335 - val_accuracy: 0.7551\n",
            "Epoch 126/200\n",
            "20/20 [==============================] - 0s 2ms/step - loss: 0.1994 - accuracy: 0.9378 - val_loss: 1.2764 - val_accuracy: 0.7143\n",
            "Epoch 127/200\n",
            "20/20 [==============================] - 0s 2ms/step - loss: 0.1102 - accuracy: 0.9534 - val_loss: 1.2370 - val_accuracy: 0.7755\n",
            "Epoch 128/200\n",
            "20/20 [==============================] - 0s 2ms/step - loss: 0.1562 - accuracy: 0.9326 - val_loss: 1.0507 - val_accuracy: 0.7551\n",
            "Epoch 129/200\n",
            "20/20 [==============================] - 0s 2ms/step - loss: 0.1188 - accuracy: 0.9378 - val_loss: 1.2118 - val_accuracy: 0.7347\n",
            "Epoch 130/200\n",
            "20/20 [==============================] - 0s 2ms/step - loss: 0.1734 - accuracy: 0.9275 - val_loss: 1.0382 - val_accuracy: 0.7959\n",
            "Epoch 131/200\n",
            "20/20 [==============================] - 0s 2ms/step - loss: 0.1064 - accuracy: 0.9637 - val_loss: 1.0924 - val_accuracy: 0.7551\n",
            "Epoch 132/200\n",
            "20/20 [==============================] - 0s 2ms/step - loss: 0.1309 - accuracy: 0.9378 - val_loss: 0.7478 - val_accuracy: 0.7755\n",
            "Epoch 133/200\n",
            "20/20 [==============================] - 0s 2ms/step - loss: 0.0910 - accuracy: 0.9741 - val_loss: 1.3404 - val_accuracy: 0.7143\n",
            "Epoch 134/200\n",
            "20/20 [==============================] - 0s 2ms/step - loss: 0.1327 - accuracy: 0.9378 - val_loss: 1.2036 - val_accuracy: 0.6531\n",
            "Epoch 135/200\n",
            "20/20 [==============================] - 0s 2ms/step - loss: 0.1861 - accuracy: 0.9430 - val_loss: 0.9388 - val_accuracy: 0.7143\n",
            "Epoch 136/200\n",
            "20/20 [==============================] - 0s 2ms/step - loss: 0.0817 - accuracy: 0.9689 - val_loss: 0.9717 - val_accuracy: 0.7551\n",
            "Epoch 137/200\n",
            "20/20 [==============================] - 0s 2ms/step - loss: 0.2143 - accuracy: 0.9275 - val_loss: 1.2641 - val_accuracy: 0.6939\n",
            "Epoch 138/200\n",
            "20/20 [==============================] - 0s 2ms/step - loss: 0.0947 - accuracy: 0.9689 - val_loss: 1.1160 - val_accuracy: 0.7959\n",
            "Epoch 139/200\n",
            "20/20 [==============================] - 0s 2ms/step - loss: 0.1545 - accuracy: 0.9482 - val_loss: 0.6909 - val_accuracy: 0.7959\n",
            "Epoch 140/200\n",
            "20/20 [==============================] - 0s 2ms/step - loss: 0.1270 - accuracy: 0.9171 - val_loss: 0.9865 - val_accuracy: 0.7347\n",
            "Epoch 141/200\n",
            "20/20 [==============================] - 0s 2ms/step - loss: 0.1383 - accuracy: 0.9378 - val_loss: 1.1117 - val_accuracy: 0.7347\n",
            "Epoch 142/200\n",
            "20/20 [==============================] - 0s 2ms/step - loss: 0.1099 - accuracy: 0.9534 - val_loss: 0.9915 - val_accuracy: 0.7755\n",
            "Epoch 143/200\n",
            "20/20 [==============================] - 0s 2ms/step - loss: 0.2174 - accuracy: 0.9223 - val_loss: 1.1900 - val_accuracy: 0.7347\n",
            "Epoch 144/200\n",
            "20/20 [==============================] - 0s 2ms/step - loss: 0.1341 - accuracy: 0.9378 - val_loss: 1.5345 - val_accuracy: 0.7755\n",
            "Epoch 145/200\n",
            "20/20 [==============================] - 0s 2ms/step - loss: 0.1420 - accuracy: 0.9430 - val_loss: 1.2322 - val_accuracy: 0.7551\n",
            "Epoch 146/200\n",
            "20/20 [==============================] - 0s 2ms/step - loss: 0.0997 - accuracy: 0.9637 - val_loss: 1.1698 - val_accuracy: 0.7551\n",
            "Epoch 147/200\n",
            "20/20 [==============================] - 0s 2ms/step - loss: 0.1205 - accuracy: 0.9430 - val_loss: 1.2056 - val_accuracy: 0.6939\n",
            "Epoch 148/200\n",
            "20/20 [==============================] - 0s 2ms/step - loss: 0.1325 - accuracy: 0.9482 - val_loss: 1.0289 - val_accuracy: 0.7347\n",
            "Epoch 149/200\n",
            "20/20 [==============================] - 0s 2ms/step - loss: 0.1089 - accuracy: 0.9689 - val_loss: 1.1178 - val_accuracy: 0.7959\n",
            "Epoch 150/200\n",
            "20/20 [==============================] - 0s 2ms/step - loss: 0.1161 - accuracy: 0.9430 - val_loss: 1.2328 - val_accuracy: 0.7959\n",
            "Epoch 151/200\n",
            "20/20 [==============================] - 0s 2ms/step - loss: 0.1836 - accuracy: 0.9171 - val_loss: 1.4990 - val_accuracy: 0.8163\n",
            "Epoch 152/200\n",
            "20/20 [==============================] - 0s 2ms/step - loss: 0.1199 - accuracy: 0.9326 - val_loss: 1.2176 - val_accuracy: 0.7755\n",
            "Epoch 153/200\n",
            "20/20 [==============================] - 0s 2ms/step - loss: 0.1358 - accuracy: 0.9482 - val_loss: 1.5025 - val_accuracy: 0.7551\n",
            "Epoch 154/200\n",
            "20/20 [==============================] - 0s 2ms/step - loss: 0.1145 - accuracy: 0.9430 - val_loss: 1.0121 - val_accuracy: 0.7551\n",
            "Epoch 155/200\n",
            "20/20 [==============================] - 0s 2ms/step - loss: 0.1014 - accuracy: 0.9430 - val_loss: 1.1435 - val_accuracy: 0.7347\n",
            "Epoch 156/200\n",
            "20/20 [==============================] - 0s 2ms/step - loss: 0.1829 - accuracy: 0.9223 - val_loss: 1.2580 - val_accuracy: 0.7551\n",
            "Epoch 157/200\n",
            "20/20 [==============================] - 0s 2ms/step - loss: 0.0959 - accuracy: 0.9689 - val_loss: 1.1683 - val_accuracy: 0.7347\n",
            "Epoch 158/200\n",
            "20/20 [==============================] - 0s 2ms/step - loss: 0.1283 - accuracy: 0.9378 - val_loss: 1.3274 - val_accuracy: 0.7551\n",
            "Epoch 159/200\n",
            "20/20 [==============================] - 0s 2ms/step - loss: 0.1972 - accuracy: 0.8964 - val_loss: 1.2657 - val_accuracy: 0.7551\n",
            "Epoch 160/200\n",
            "20/20 [==============================] - 0s 2ms/step - loss: 0.1539 - accuracy: 0.9430 - val_loss: 1.2054 - val_accuracy: 0.7959\n",
            "Epoch 161/200\n",
            "20/20 [==============================] - 0s 2ms/step - loss: 0.1336 - accuracy: 0.9482 - val_loss: 1.4519 - val_accuracy: 0.7755\n",
            "Epoch 162/200\n",
            "20/20 [==============================] - 0s 2ms/step - loss: 0.1407 - accuracy: 0.9430 - val_loss: 1.1852 - val_accuracy: 0.7959\n",
            "Epoch 163/200\n",
            "20/20 [==============================] - 0s 2ms/step - loss: 0.1183 - accuracy: 0.9378 - val_loss: 1.2467 - val_accuracy: 0.7755\n",
            "Epoch 164/200\n",
            "20/20 [==============================] - 0s 2ms/step - loss: 0.1017 - accuracy: 0.9326 - val_loss: 1.6830 - val_accuracy: 0.7755\n",
            "Epoch 165/200\n",
            "20/20 [==============================] - 0s 2ms/step - loss: 0.2028 - accuracy: 0.9223 - val_loss: 1.1742 - val_accuracy: 0.7347\n",
            "Epoch 166/200\n",
            "20/20 [==============================] - 0s 2ms/step - loss: 0.0877 - accuracy: 0.9585 - val_loss: 1.3448 - val_accuracy: 0.7755\n",
            "Epoch 167/200\n",
            "20/20 [==============================] - 0s 2ms/step - loss: 0.1798 - accuracy: 0.9119 - val_loss: 1.3013 - val_accuracy: 0.7143\n",
            "Epoch 168/200\n",
            "20/20 [==============================] - 0s 2ms/step - loss: 0.1752 - accuracy: 0.9430 - val_loss: 0.9616 - val_accuracy: 0.7755\n",
            "Epoch 169/200\n",
            "20/20 [==============================] - 0s 2ms/step - loss: 0.0893 - accuracy: 0.9689 - val_loss: 1.4000 - val_accuracy: 0.7347\n",
            "Epoch 170/200\n",
            "20/20 [==============================] - 0s 2ms/step - loss: 0.1556 - accuracy: 0.9119 - val_loss: 1.5299 - val_accuracy: 0.7551\n",
            "Epoch 171/200\n",
            "20/20 [==============================] - 0s 2ms/step - loss: 0.1599 - accuracy: 0.9326 - val_loss: 1.1276 - val_accuracy: 0.7551\n",
            "Epoch 172/200\n",
            "20/20 [==============================] - 0s 2ms/step - loss: 0.1261 - accuracy: 0.9534 - val_loss: 1.2158 - val_accuracy: 0.6939\n",
            "Epoch 173/200\n",
            "20/20 [==============================] - 0s 2ms/step - loss: 0.1220 - accuracy: 0.9534 - val_loss: 1.0237 - val_accuracy: 0.7755\n",
            "Epoch 174/200\n",
            "20/20 [==============================] - 0s 2ms/step - loss: 0.1923 - accuracy: 0.9378 - val_loss: 1.1420 - val_accuracy: 0.7347\n",
            "Epoch 175/200\n",
            "20/20 [==============================] - 0s 2ms/step - loss: 0.0989 - accuracy: 0.9482 - val_loss: 1.2328 - val_accuracy: 0.7551\n",
            "Epoch 176/200\n",
            "20/20 [==============================] - 0s 2ms/step - loss: 0.2028 - accuracy: 0.9378 - val_loss: 1.3076 - val_accuracy: 0.6735\n",
            "Epoch 177/200\n",
            "20/20 [==============================] - 0s 2ms/step - loss: 0.1056 - accuracy: 0.9585 - val_loss: 1.1188 - val_accuracy: 0.7959\n",
            "Epoch 178/200\n",
            "20/20 [==============================] - 0s 2ms/step - loss: 0.1550 - accuracy: 0.9326 - val_loss: 1.5905 - val_accuracy: 0.7143\n",
            "Epoch 179/200\n",
            "20/20 [==============================] - 0s 2ms/step - loss: 0.1155 - accuracy: 0.9482 - val_loss: 1.3317 - val_accuracy: 0.7551\n",
            "Epoch 180/200\n",
            "20/20 [==============================] - 0s 2ms/step - loss: 0.0934 - accuracy: 0.9637 - val_loss: 1.2917 - val_accuracy: 0.7551\n",
            "Epoch 181/200\n",
            "20/20 [==============================] - 0s 2ms/step - loss: 0.1540 - accuracy: 0.9275 - val_loss: 1.1840 - val_accuracy: 0.7959\n",
            "Epoch 182/200\n",
            "20/20 [==============================] - 0s 2ms/step - loss: 0.1451 - accuracy: 0.9326 - val_loss: 1.2591 - val_accuracy: 0.7959\n",
            "Epoch 183/200\n",
            "20/20 [==============================] - 0s 2ms/step - loss: 0.1062 - accuracy: 0.9585 - val_loss: 1.1902 - val_accuracy: 0.7755\n",
            "Epoch 184/200\n",
            "20/20 [==============================] - 0s 2ms/step - loss: 0.1383 - accuracy: 0.9223 - val_loss: 1.3252 - val_accuracy: 0.7755\n",
            "Epoch 185/200\n",
            "20/20 [==============================] - 0s 2ms/step - loss: 0.2179 - accuracy: 0.9171 - val_loss: 1.1117 - val_accuracy: 0.7755\n",
            "Epoch 186/200\n",
            "20/20 [==============================] - 0s 2ms/step - loss: 0.1538 - accuracy: 0.9482 - val_loss: 1.2054 - val_accuracy: 0.7755\n",
            "Epoch 187/200\n",
            "20/20 [==============================] - 0s 2ms/step - loss: 0.1000 - accuracy: 0.9482 - val_loss: 1.2485 - val_accuracy: 0.7347\n",
            "Epoch 188/200\n",
            "20/20 [==============================] - 0s 2ms/step - loss: 0.2565 - accuracy: 0.9275 - val_loss: 1.2937 - val_accuracy: 0.7551\n",
            "Epoch 189/200\n",
            "20/20 [==============================] - 0s 2ms/step - loss: 0.2136 - accuracy: 0.9430 - val_loss: 1.1902 - val_accuracy: 0.6939\n",
            "Epoch 190/200\n",
            "20/20 [==============================] - 0s 2ms/step - loss: 0.0825 - accuracy: 0.9689 - val_loss: 1.3936 - val_accuracy: 0.7347\n",
            "Epoch 191/200\n",
            "20/20 [==============================] - 0s 2ms/step - loss: 0.1056 - accuracy: 0.9482 - val_loss: 1.5829 - val_accuracy: 0.7347\n",
            "Epoch 192/200\n",
            "20/20 [==============================] - 0s 2ms/step - loss: 0.1793 - accuracy: 0.9275 - val_loss: 1.5612 - val_accuracy: 0.7143\n",
            "Epoch 193/200\n",
            "20/20 [==============================] - 0s 2ms/step - loss: 0.1361 - accuracy: 0.9482 - val_loss: 1.2932 - val_accuracy: 0.7143\n",
            "Epoch 194/200\n",
            "20/20 [==============================] - 0s 2ms/step - loss: 0.0829 - accuracy: 0.9637 - val_loss: 1.1346 - val_accuracy: 0.7959\n",
            "Epoch 195/200\n",
            "20/20 [==============================] - 0s 2ms/step - loss: 0.2703 - accuracy: 0.9223 - val_loss: 1.4577 - val_accuracy: 0.7347\n",
            "Epoch 196/200\n",
            "20/20 [==============================] - 0s 2ms/step - loss: 0.1719 - accuracy: 0.9275 - val_loss: 1.0374 - val_accuracy: 0.7143\n",
            "Epoch 197/200\n",
            "20/20 [==============================] - 0s 2ms/step - loss: 0.1541 - accuracy: 0.9430 - val_loss: 1.2788 - val_accuracy: 0.7347\n",
            "Epoch 198/200\n",
            "20/20 [==============================] - 0s 2ms/step - loss: 0.0946 - accuracy: 0.9482 - val_loss: 1.2671 - val_accuracy: 0.6939\n",
            "Epoch 199/200\n",
            "20/20 [==============================] - 0s 2ms/step - loss: 0.1508 - accuracy: 0.9378 - val_loss: 1.4909 - val_accuracy: 0.7347\n",
            "Epoch 200/200\n",
            "20/20 [==============================] - 0s 2ms/step - loss: 0.1247 - accuracy: 0.9430 - val_loss: 1.2934 - val_accuracy: 0.7143\n"
          ],
          "name": "stdout"
        }
      ]
    },
    {
      "cell_type": "code",
      "metadata": {
        "id": "A-P7clDefo-u",
        "colab_type": "code",
        "colab": {
          "base_uri": "https://localhost:8080/",
          "height": 51
        },
        "outputId": "c92b6cf9-a7ea-47f6-86d4-09bd5d096c9b"
      },
      "source": [
        "model.evaluate(X_test,y_test)"
      ],
      "execution_count": null,
      "outputs": [
        {
          "output_type": "stream",
          "text": [
            "2/2 [==============================] - 0s 1ms/step - loss: 3.0041 - accuracy: 0.7213\n"
          ],
          "name": "stdout"
        },
        {
          "output_type": "execute_result",
          "data": {
            "text/plain": [
              "[3.004085063934326, 0.7213114500045776]"
            ]
          },
          "metadata": {
            "tags": []
          },
          "execution_count": 30
        }
      ]
    },
    {
      "cell_type": "code",
      "metadata": {
        "id": "SIg4b_YyhTxG",
        "colab_type": "code",
        "colab": {
          "base_uri": "https://localhost:8080/",
          "height": 295
        },
        "outputId": "0d12f0a5-f0c5-48f9-8c9b-2f9cd421f03d"
      },
      "source": [
        "plt.plot(history.history['accuracy'])\n",
        "plt.plot(history.history['val_accuracy'])\n",
        "plt.title('Model Accuracy')\n",
        "plt.ylabel('accuracy')\n",
        "plt.xlabel('epoch')\n",
        "plt.legend(['Train','Validation'])\n",
        "plt.show()"
      ],
      "execution_count": null,
      "outputs": [
        {
          "output_type": "display_data",
          "data": {
            "image/png": "[encoded data removed]",
            "text/plain": [
              "<Figure size 432x288 with 1 Axes>"
            ]
          },
          "metadata": {
            "tags": [],
            "needs_background": "light"
          }
        }
      ]
    },
    {
      "cell_type": "code",
      "metadata": {
        "id": "HHakSk6AiJOE",
        "colab_type": "code",
        "colab": {
          "base_uri": "https://localhost:8080/",
          "height": 295
        },
        "outputId": "3282d44a-5181-4c94-e506-2359a76f5d56"
      },
      "source": [
        "plt.plot(history.history['loss'])\n",
        "plt.plot(history.history['val_loss'])\n",
        "plt.title(\"Model Loss\")\n",
        "plt.ylabel(\"Loss\")\n",
        "plt.xlabel(\"Epoch\")\n",
        "plt.legend(['Train','Validation'])\n",
        "plt.show()"
      ],
      "execution_count": null,
      "outputs": [
        {
          "output_type": "display_data",
          "data": {
            "image/png": "[encoded data removed]",
            "text/plain": [
              "<Figure size 432x288 with 1 Axes>"
            ]
          },
          "metadata": {
            "tags": [],
            "needs_background": "light"
          }
        }
      ]
    }
  ]
}