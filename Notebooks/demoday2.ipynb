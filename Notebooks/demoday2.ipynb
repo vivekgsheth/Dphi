{
  "nbformat": 4,
  "nbformat_minor": 0,
  "metadata": {
    "colab": {
      "name": "demoday2.ipynb",
      "provenance": [],
      "collapsed_sections": []
    },
    "kernelspec": {
      "name": "python3",
      "display_name": "Python 3"
    }
  },
  "cells": [
    {
      "cell_type": "code",
      "metadata": {
        "id": "xdzCPg9h2oTl",
        "colab_type": "code",
        "colab": {
          "base_uri": "https://localhost:8080/",
          "height": 666
        },
        "outputId": "d48af9bc-d6c2-46e8-fa96-ba4f66db3fdd"
      },
      "source": [
        "!pip install tensorflow"
      ],
      "execution_count": null,
      "outputs": [
        {
          "output_type": "stream",
          "text": [
            "Requirement already satisfied: tensorflow in /usr/local/lib/python3.6/dist-packages (2.3.0)\n",
            "Requirement already satisfied: tensorflow-estimator<2.4.0,>=2.3.0 in /usr/local/lib/python3.6/dist-packages (from tensorflow) (2.3.0)\n",
            "Requirement already satisfied: wheel>=0.26 in /usr/local/lib/python3.6/dist-packages (from tensorflow) (0.34.2)\n",
            "Requirement already satisfied: keras-preprocessing<1.2,>=1.1.1 in /usr/local/lib/python3.6/dist-packages (from tensorflow) (1.1.2)\n",
            "Requirement already satisfied: termcolor>=1.1.0 in /usr/local/lib/python3.6/dist-packages (from tensorflow) (1.1.0)\n",
            "Requirement already satisfied: opt-einsum>=2.3.2 in /usr/local/lib/python3.6/dist-packages (from tensorflow) (3.3.0)\n",
            "Requirement already satisfied: six>=1.12.0 in /usr/local/lib/python3.6/dist-packages (from tensorflow) (1.15.0)\n",
            "Requirement already satisfied: numpy<1.19.0,>=1.16.0 in /usr/local/lib/python3.6/dist-packages (from tensorflow) (1.18.5)\n",
            "Requirement already satisfied: tensorboard<3,>=2.3.0 in /usr/local/lib/python3.6/dist-packages (from tensorflow) (2.3.0)\n",
            "Requirement already satisfied: grpcio>=1.8.6 in /usr/local/lib/python3.6/dist-packages (from tensorflow) (1.31.0)\n",
            "Requirement already satisfied: absl-py>=0.7.0 in /usr/local/lib/python3.6/dist-packages (from tensorflow) (0.9.0)\n",
            "Requirement already satisfied: google-pasta>=0.1.8 in /usr/local/lib/python3.6/dist-packages (from tensorflow) (0.2.0)\n",
            "Requirement already satisfied: astunparse==1.6.3 in /usr/local/lib/python3.6/dist-packages (from tensorflow) (1.6.3)\n",
            "Requirement already satisfied: scipy==1.4.1 in /usr/local/lib/python3.6/dist-packages (from tensorflow) (1.4.1)\n",
            "Requirement already satisfied: gast==0.3.3 in /usr/local/lib/python3.6/dist-packages (from tensorflow) (0.3.3)\n",
            "Requirement already satisfied: h5py<2.11.0,>=2.10.0 in /usr/local/lib/python3.6/dist-packages (from tensorflow) (2.10.0)\n",
            "Requirement already satisfied: wrapt>=1.11.1 in /usr/local/lib/python3.6/dist-packages (from tensorflow) (1.12.1)\n",
            "Requirement already satisfied: protobuf>=3.9.2 in /usr/local/lib/python3.6/dist-packages (from tensorflow) (3.12.4)\n",
            "Requirement already satisfied: requests<3,>=2.21.0 in /usr/local/lib/python3.6/dist-packages (from tensorboard<3,>=2.3.0->tensorflow) (2.23.0)\n",
            "Requirement already satisfied: google-auth-oauthlib<0.5,>=0.4.1 in /usr/local/lib/python3.6/dist-packages (from tensorboard<3,>=2.3.0->tensorflow) (0.4.1)\n",
            "Requirement already satisfied: setuptools>=41.0.0 in /usr/local/lib/python3.6/dist-packages (from tensorboard<3,>=2.3.0->tensorflow) (49.2.0)\n",
            "Requirement already satisfied: werkzeug>=0.11.15 in /usr/local/lib/python3.6/dist-packages (from tensorboard<3,>=2.3.0->tensorflow) (1.0.1)\n",
            "Requirement already satisfied: tensorboard-plugin-wit>=1.6.0 in /usr/local/lib/python3.6/dist-packages (from tensorboard<3,>=2.3.0->tensorflow) (1.7.0)\n",
            "Requirement already satisfied: google-auth<2,>=1.6.3 in /usr/local/lib/python3.6/dist-packages (from tensorboard<3,>=2.3.0->tensorflow) (1.17.2)\n",
            "Requirement already satisfied: markdown>=2.6.8 in /usr/local/lib/python3.6/dist-packages (from tensorboard<3,>=2.3.0->tensorflow) (3.2.2)\n",
            "Requirement already satisfied: chardet<4,>=3.0.2 in /usr/local/lib/python3.6/dist-packages (from requests<3,>=2.21.0->tensorboard<3,>=2.3.0->tensorflow) (3.0.4)\n",
            "Requirement already satisfied: urllib3!=1.25.0,!=1.25.1,<1.26,>=1.21.1 in /usr/local/lib/python3.6/dist-packages (from requests<3,>=2.21.0->tensorboard<3,>=2.3.0->tensorflow) (1.24.3)\n",
            "Requirement already satisfied: certifi>=2017.4.17 in /usr/local/lib/python3.6/dist-packages (from requests<3,>=2.21.0->tensorboard<3,>=2.3.0->tensorflow) (2020.6.20)\n",
            "Requirement already satisfied: idna<3,>=2.5 in /usr/local/lib/python3.6/dist-packages (from requests<3,>=2.21.0->tensorboard<3,>=2.3.0->tensorflow) (2.10)\n",
            "Requirement already satisfied: requests-oauthlib>=0.7.0 in /usr/local/lib/python3.6/dist-packages (from google-auth-oauthlib<0.5,>=0.4.1->tensorboard<3,>=2.3.0->tensorflow) (1.3.0)\n",
            "Requirement already satisfied: cachetools<5.0,>=2.0.0 in /usr/local/lib/python3.6/dist-packages (from google-auth<2,>=1.6.3->tensorboard<3,>=2.3.0->tensorflow) (4.1.1)\n",
            "Requirement already satisfied: pyasn1-modules>=0.2.1 in /usr/local/lib/python3.6/dist-packages (from google-auth<2,>=1.6.3->tensorboard<3,>=2.3.0->tensorflow) (0.2.8)\n",
            "Requirement already satisfied: rsa<5,>=3.1.4; python_version >= \"3\" in /usr/local/lib/python3.6/dist-packages (from google-auth<2,>=1.6.3->tensorboard<3,>=2.3.0->tensorflow) (4.6)\n",
            "Requirement already satisfied: importlib-metadata; python_version < \"3.8\" in /usr/local/lib/python3.6/dist-packages (from markdown>=2.6.8->tensorboard<3,>=2.3.0->tensorflow) (1.7.0)\n",
            "Requirement already satisfied: oauthlib>=3.0.0 in /usr/local/lib/python3.6/dist-packages (from requests-oauthlib>=0.7.0->google-auth-oauthlib<0.5,>=0.4.1->tensorboard<3,>=2.3.0->tensorflow) (3.1.0)\n",
            "Requirement already satisfied: pyasn1<0.5.0,>=0.4.6 in /usr/local/lib/python3.6/dist-packages (from pyasn1-modules>=0.2.1->google-auth<2,>=1.6.3->tensorboard<3,>=2.3.0->tensorflow) (0.4.8)\n",
            "Requirement already satisfied: zipp>=0.5 in /usr/local/lib/python3.6/dist-packages (from importlib-metadata; python_version < \"3.8\"->markdown>=2.6.8->tensorboard<3,>=2.3.0->tensorflow) (3.1.0)\n"
          ],
          "name": "stdout"
        }
      ]
    },
    {
      "cell_type": "code",
      "metadata": {
        "id": "K_KhEAz92zRY",
        "colab_type": "code",
        "colab": {
          "base_uri": "https://localhost:8080/",
          "height": 34
        },
        "outputId": "d09705d4-544a-4492-e211-1b8ea96122a0"
      },
      "source": [
        "import tensorflow as tf\n",
        "print(tf.__version__)"
      ],
      "execution_count": null,
      "outputs": [
        {
          "output_type": "stream",
          "text": [
            "2.3.0\n"
          ],
          "name": "stdout"
        }
      ]
    },
    {
      "cell_type": "code",
      "metadata": {
        "id": "sfVEfbLxNgut",
        "colab_type": "code",
        "colab": {}
      },
      "source": [
        "import numpy as np\n",
        "import pandas as pd\n",
        "import tensorflow as tf\n",
        "import matplotlib.pyplot as plt"
      ],
      "execution_count": null,
      "outputs": []
    },
    {
      "cell_type": "code",
      "metadata": {
        "id": "WvsyIHO4NrLN",
        "colab_type": "code",
        "colab": {
          "base_uri": "https://localhost:8080/",
          "height": 204
        },
        "outputId": "0313c420-4e84-487d-e977-c82dbc039884"
      },
      "source": [
        "boston_data = pd.read_csv(\"https://raw.githubusercontent.com/dphi-official/Datasets/master/Boston_Housing/Training_set_boston.csv\" )\n",
        "boston_data.head()"
      ],
      "execution_count": null,
      "outputs": [
        {
          "output_type": "execute_result",
          "data": {
            "text/html": [
              "<div>\n",
              "<style scoped>\n",
              "    .dataframe tbody tr th:only-of-type {\n",
              "        vertical-align: middle;\n",
              "    }\n",
              "\n",
              "    .dataframe tbody tr th {\n",
              "        vertical-align: top;\n",
              "    }\n",
              "\n",
              "    .dataframe thead th {\n",
              "        text-align: right;\n",
              "    }\n",
              "</style>\n",
              "<table border=\"1\" class=\"dataframe\">\n",
              "  <thead>\n",
              "    <tr style=\"text-align: right;\">\n",
              "      <th></th>\n",
              "      <th>CRIM</th>\n",
              "      <th>ZN</th>\n",
              "      <th>INDUS</th>\n",
              "      <th>CHAS</th>\n",
              "      <th>NOX</th>\n",
              "      <th>RM</th>\n",
              "      <th>AGE</th>\n",
              "      <th>DIS</th>\n",
              "      <th>RAD</th>\n",
              "      <th>TAX</th>\n",
              "      <th>PTRATIO</th>\n",
              "      <th>B</th>\n",
              "      <th>LSTAT</th>\n",
              "      <th>MEDV</th>\n",
              "    </tr>\n",
              "  </thead>\n",
              "  <tbody>\n",
              "    <tr>\n",
              "      <th>0</th>\n",
              "      <td>15.02340</td>\n",
              "      <td>0.0</td>\n",
              "      <td>18.10</td>\n",
              "      <td>0.0</td>\n",
              "      <td>0.6140</td>\n",
              "      <td>5.304</td>\n",
              "      <td>97.3</td>\n",
              "      <td>2.1007</td>\n",
              "      <td>24.0</td>\n",
              "      <td>666.0</td>\n",
              "      <td>20.2</td>\n",
              "      <td>349.48</td>\n",
              "      <td>24.91</td>\n",
              "      <td>12.0</td>\n",
              "    </tr>\n",
              "    <tr>\n",
              "      <th>1</th>\n",
              "      <td>0.62739</td>\n",
              "      <td>0.0</td>\n",
              "      <td>8.14</td>\n",
              "      <td>0.0</td>\n",
              "      <td>0.5380</td>\n",
              "      <td>5.834</td>\n",
              "      <td>56.5</td>\n",
              "      <td>4.4986</td>\n",
              "      <td>4.0</td>\n",
              "      <td>307.0</td>\n",
              "      <td>21.0</td>\n",
              "      <td>395.62</td>\n",
              "      <td>8.47</td>\n",
              "      <td>19.9</td>\n",
              "    </tr>\n",
              "    <tr>\n",
              "      <th>2</th>\n",
              "      <td>0.03466</td>\n",
              "      <td>35.0</td>\n",
              "      <td>6.06</td>\n",
              "      <td>0.0</td>\n",
              "      <td>0.4379</td>\n",
              "      <td>6.031</td>\n",
              "      <td>23.3</td>\n",
              "      <td>6.6407</td>\n",
              "      <td>1.0</td>\n",
              "      <td>304.0</td>\n",
              "      <td>16.9</td>\n",
              "      <td>362.25</td>\n",
              "      <td>7.83</td>\n",
              "      <td>19.4</td>\n",
              "    </tr>\n",
              "    <tr>\n",
              "      <th>3</th>\n",
              "      <td>7.05042</td>\n",
              "      <td>0.0</td>\n",
              "      <td>18.10</td>\n",
              "      <td>0.0</td>\n",
              "      <td>0.6140</td>\n",
              "      <td>6.103</td>\n",
              "      <td>85.1</td>\n",
              "      <td>2.0218</td>\n",
              "      <td>24.0</td>\n",
              "      <td>666.0</td>\n",
              "      <td>20.2</td>\n",
              "      <td>2.52</td>\n",
              "      <td>23.29</td>\n",
              "      <td>13.4</td>\n",
              "    </tr>\n",
              "    <tr>\n",
              "      <th>4</th>\n",
              "      <td>0.72580</td>\n",
              "      <td>0.0</td>\n",
              "      <td>8.14</td>\n",
              "      <td>0.0</td>\n",
              "      <td>0.5380</td>\n",
              "      <td>5.727</td>\n",
              "      <td>69.5</td>\n",
              "      <td>3.7965</td>\n",
              "      <td>4.0</td>\n",
              "      <td>307.0</td>\n",
              "      <td>21.0</td>\n",
              "      <td>390.95</td>\n",
              "      <td>11.28</td>\n",
              "      <td>18.2</td>\n",
              "    </tr>\n",
              "  </tbody>\n",
              "</table>\n",
              "</div>"
            ],
            "text/plain": [
              "       CRIM    ZN  INDUS  CHAS     NOX  ...    TAX  PTRATIO       B  LSTAT  MEDV\n",
              "0  15.02340   0.0  18.10   0.0  0.6140  ...  666.0     20.2  349.48  24.91  12.0\n",
              "1   0.62739   0.0   8.14   0.0  0.5380  ...  307.0     21.0  395.62   8.47  19.9\n",
              "2   0.03466  35.0   6.06   0.0  0.4379  ...  304.0     16.9  362.25   7.83  19.4\n",
              "3   7.05042   0.0  18.10   0.0  0.6140  ...  666.0     20.2    2.52  23.29  13.4\n",
              "4   0.72580   0.0   8.14   0.0  0.5380  ...  307.0     21.0  390.95  11.28  18.2\n",
              "\n",
              "[5 rows x 14 columns]"
            ]
          },
          "metadata": {
            "tags": []
          },
          "execution_count": 3
        }
      ]
    },
    {
      "cell_type": "code",
      "metadata": {
        "id": "MLLAJSHBOKHA",
        "colab_type": "code",
        "colab": {
          "base_uri": "https://localhost:8080/",
          "height": 459
        },
        "outputId": "107fe6bc-699b-42d0-c707-3b5dfb3a8423"
      },
      "source": [
        "X=boston_data.drop('MEDV',axis=1)\n",
        "y=boston_data['MEDV']\n",
        "print(X)\n",
        "print(y)"
      ],
      "execution_count": null,
      "outputs": [
        {
          "output_type": "stream",
          "text": [
            "         CRIM    ZN  INDUS  CHAS     NOX  ...   RAD    TAX  PTRATIO       B  LSTAT\n",
            "0    15.02340   0.0  18.10   0.0  0.6140  ...  24.0  666.0     20.2  349.48  24.91\n",
            "1     0.62739   0.0   8.14   0.0  0.5380  ...   4.0  307.0     21.0  395.62   8.47\n",
            "2     0.03466  35.0   6.06   0.0  0.4379  ...   1.0  304.0     16.9  362.25   7.83\n",
            "3     7.05042   0.0  18.10   0.0  0.6140  ...  24.0  666.0     20.2    2.52  23.29\n",
            "4     0.72580   0.0   8.14   0.0  0.5380  ...   4.0  307.0     21.0  390.95  11.28\n",
            "..        ...   ...    ...   ...     ...  ...   ...    ...      ...     ...    ...\n",
            "399   0.17120   0.0   8.56   0.0  0.5200  ...   5.0  384.0     20.9  395.67  18.66\n",
            "400   0.29916  20.0   6.96   0.0  0.4640  ...   3.0  223.0     18.6  388.65  13.00\n",
            "401   0.01501  80.0   2.01   0.0  0.4350  ...   4.0  280.0     17.0  390.94   5.99\n",
            "402  11.16040   0.0  18.10   0.0  0.7400  ...  24.0  666.0     20.2  109.85  23.27\n",
            "403   0.22876   0.0   8.56   0.0  0.5200  ...   5.0  384.0     20.9   70.80  10.63\n",
            "\n",
            "[404 rows x 13 columns]\n",
            "0      12.0\n",
            "1      19.9\n",
            "2      19.4\n",
            "3      13.4\n",
            "4      18.2\n",
            "       ... \n",
            "399    19.5\n",
            "400    21.1\n",
            "401    24.5\n",
            "402    13.4\n",
            "403    18.6\n",
            "Name: MEDV, Length: 404, dtype: float64\n"
          ],
          "name": "stdout"
        }
      ]
    },
    {
      "cell_type": "code",
      "metadata": {
        "id": "Rs8x0mqnOevY",
        "colab_type": "code",
        "colab": {}
      },
      "source": [
        "from sklearn.model_selection import train_test_split\n",
        "\n",
        "X_train, X_test, y_train, y_test = train_test_split(X, y, test_size=0.2, random_state=42)"
      ],
      "execution_count": null,
      "outputs": []
    },
    {
      "cell_type": "code",
      "metadata": {
        "id": "89tNqF07hatj",
        "colab_type": "code",
        "colab": {
          "base_uri": "https://localhost:8080/",
          "height": 34
        },
        "outputId": "750798c0-8447-4c5b-f770-7d6f696a6cc3"
      },
      "source": [
        "n_feat = X.shape[1]\n",
        "print(n_feat)"
      ],
      "execution_count": null,
      "outputs": [
        {
          "output_type": "stream",
          "text": [
            "13\n"
          ],
          "name": "stdout"
        }
      ]
    },
    {
      "cell_type": "code",
      "metadata": {
        "id": "BVbdERIFhtBo",
        "colab_type": "code",
        "colab": {}
      },
      "source": [
        "from tensorflow.keras import Sequential\n",
        "from tensorflow.keras.layers import Dense\n",
        "from numpy.random import seed\n",
        "import tensorflow"
      ],
      "execution_count": null,
      "outputs": []
    },
    {
      "cell_type": "code",
      "metadata": {
        "id": "_ME318ovijzi",
        "colab_type": "code",
        "colab": {}
      },
      "source": [
        "model = Sequential()\n",
        "model.add(Dense(10, activation='relu', input_shape=(n_feat,)))\n",
        "model.add(Dense(8, activation='relu'))\n",
        "model.add(Dense(1))"
      ],
      "execution_count": null,
      "outputs": []
    },
    {
      "cell_type": "code",
      "metadata": {
        "id": "xAIz5uP9i94n",
        "colab_type": "code",
        "colab": {}
      },
      "source": [
        "from tensorflow.keras.optimizers import RMSprop\n",
        "optimizer = RMSprop(0.01)     #0.01 is learning rate"
      ],
      "execution_count": null,
      "outputs": []
    },
    {
      "cell_type": "code",
      "metadata": {
        "id": "zMjcKYqpjrfW",
        "colab_type": "code",
        "colab": {}
      },
      "source": [
        "model.compile(loss='mean_squared_error', optimizer=optimizer)"
      ],
      "execution_count": null,
      "outputs": []
    },
    {
      "cell_type": "code",
      "metadata": {
        "id": "2cqn7eYEkDAV",
        "colab_type": "code",
        "colab": {
          "base_uri": "https://localhost:8080/",
          "height": 374
        },
        "outputId": "f5f683ef-eb46-49ee-be87-a0b9e5c5ab87"
      },
      "source": [
        "seed_value = 42\n",
        "seed(seed_value)\n",
        "\n",
        "import os\n",
        "os.environ['PYTHONHASHSEED'] = str(seed_value)\n",
        "\n",
        "import random\n",
        "random.seed(seed_value)\n",
        "\n",
        "import numpy as np\n",
        "np.random.seed(seed_value)\n",
        "\n",
        "tensorflow.random.set_seed(seed_value)\n",
        "model.fit(X_train, y_train, epochs=10, batch_size=30, verbose=1)"
      ],
      "execution_count": null,
      "outputs": [
        {
          "output_type": "stream",
          "text": [
            "Epoch 1/10\n",
            "11/11 [==============================] - 0s 1ms/step - loss: 270.7439\n",
            "Epoch 2/10\n",
            "11/11 [==============================] - 0s 1ms/step - loss: 91.8671\n",
            "Epoch 3/10\n",
            "11/11 [==============================] - 0s 1ms/step - loss: 99.6832\n",
            "Epoch 4/10\n",
            "11/11 [==============================] - 0s 2ms/step - loss: 94.7900\n",
            "Epoch 5/10\n",
            "11/11 [==============================] - 0s 2ms/step - loss: 71.0159\n",
            "Epoch 6/10\n",
            "11/11 [==============================] - 0s 2ms/step - loss: 86.6382\n",
            "Epoch 7/10\n",
            "11/11 [==============================] - 0s 1ms/step - loss: 69.9595\n",
            "Epoch 8/10\n",
            "11/11 [==============================] - 0s 1ms/step - loss: 78.2572\n",
            "Epoch 9/10\n",
            "11/11 [==============================] - 0s 1ms/step - loss: 72.2424\n",
            "Epoch 10/10\n",
            "11/11 [==============================] - 0s 2ms/step - loss: 84.4316\n"
          ],
          "name": "stdout"
        },
        {
          "output_type": "execute_result",
          "data": {
            "text/plain": [
              "<tensorflow.python.keras.callbacks.History at 0x7f650f10cc88>"
            ]
          },
          "metadata": {
            "tags": []
          },
          "execution_count": 11
        }
      ]
    },
    {
      "cell_type": "code",
      "metadata": {
        "id": "fFfVUakolWvv",
        "colab_type": "code",
        "colab": {
          "base_uri": "https://localhost:8080/",
          "height": 51
        },
        "outputId": "4cee2c22-9d02-4f28-b2c2-60a414824bdd"
      },
      "source": [
        "model.evaluate(X_test,y_test)"
      ],
      "execution_count": null,
      "outputs": [
        {
          "output_type": "stream",
          "text": [
            "3/3 [==============================] - 0s 2ms/step - loss: 44.6665\n"
          ],
          "name": "stdout"
        },
        {
          "output_type": "execute_result",
          "data": {
            "text/plain": [
              "44.666526794433594"
            ]
          },
          "metadata": {
            "tags": []
          },
          "execution_count": 12
        }
      ]
    },
    {
      "cell_type": "code",
      "metadata": {
        "id": "PvJIr9NUlZ3W",
        "colab_type": "code",
        "colab": {
          "base_uri": "https://localhost:8080/",
          "height": 391
        },
        "outputId": "ad63efa4-0500-414f-c338-4f1b3dbcbcd5"
      },
      "source": [
        "model = Sequential()\n",
        "model.add(Dense(10, activation='relu', input_shape=(n_feat,)))\n",
        "model.add(Dense(8, activation='relu'))\n",
        "model.add(Dense(1))\n",
        "\n",
        "optimizer = RMSprop(0.1)    # 0.1 is the learning rate\n",
        "model.compile(loss='mean_squared_error',optimizer=optimizer)    # compile the model\n",
        "\n",
        "# fit the model \n",
        "model.fit(X_train, y_train, epochs=10, batch_size=30, verbose = 1)\n",
        "\n",
        "# evaluate the model\n",
        "print('The MSE value is: ', model.evaluate(X_test, y_test))"
      ],
      "execution_count": null,
      "outputs": [
        {
          "output_type": "stream",
          "text": [
            "Epoch 1/10\n",
            "11/11 [==============================] - 0s 2ms/step - loss: 11926.8594\n",
            "Epoch 2/10\n",
            "11/11 [==============================] - 0s 2ms/step - loss: 591.7657\n",
            "Epoch 3/10\n",
            "11/11 [==============================] - 0s 2ms/step - loss: 564.9374\n",
            "Epoch 4/10\n",
            "11/11 [==============================] - 0s 2ms/step - loss: 454.4177\n",
            "Epoch 5/10\n",
            "11/11 [==============================] - 0s 2ms/step - loss: 490.0461\n",
            "Epoch 6/10\n",
            "11/11 [==============================] - 0s 2ms/step - loss: 412.6062\n",
            "Epoch 7/10\n",
            "11/11 [==============================] - 0s 2ms/step - loss: 293.7393\n",
            "Epoch 8/10\n",
            "11/11 [==============================] - 0s 2ms/step - loss: 877.6232\n",
            "Epoch 9/10\n",
            "11/11 [==============================] - 0s 2ms/step - loss: 348.6920\n",
            "Epoch 10/10\n",
            "11/11 [==============================] - 0s 2ms/step - loss: 209.4893\n",
            "3/3 [==============================] - 0s 3ms/step - loss: 143.5905\n",
            "The MSE value is:  143.5904998779297\n"
          ],
          "name": "stdout"
        }
      ]
    },
    {
      "cell_type": "code",
      "metadata": {
        "id": "7kNXuHtsmPsh",
        "colab_type": "code",
        "colab": {
          "base_uri": "https://localhost:8080/",
          "height": 1000
        },
        "outputId": "176c718f-f021-44db-f96d-96bd478358e4"
      },
      "source": [
        "learning_rate = 0.5     # Replace ? with a floating-point number\n",
        "epochs = 150\n",
        "optimizer = RMSprop(learning_rate)\n",
        "model.compile(loss='mean_squared_error',optimizer=optimizer)    # compile the model\n",
        "hist = model.fit(X_train, y_train, epochs=epochs, batch_size=40)     # fit the model\n",
        "model.evaluate(X_test, y_test)       # Evaluate the model"
      ],
      "execution_count": null,
      "outputs": [
        {
          "output_type": "stream",
          "text": [
            "Epoch 1/150\n",
            "9/9 [==============================] - 0s 2ms/step - loss: 3427663.2500\n",
            "Epoch 2/150\n",
            "9/9 [==============================] - 0s 2ms/step - loss: 163.2125\n",
            "Epoch 3/150\n",
            "9/9 [==============================] - 0s 2ms/step - loss: 160.9686\n",
            "Epoch 4/150\n",
            "9/9 [==============================] - 0s 2ms/step - loss: 157.8817\n",
            "Epoch 5/150\n",
            "9/9 [==============================] - 0s 2ms/step - loss: 153.4130\n",
            "Epoch 6/150\n",
            "9/9 [==============================] - 0s 2ms/step - loss: 146.3985\n",
            "Epoch 7/150\n",
            "9/9 [==============================] - 0s 2ms/step - loss: 135.5808\n",
            "Epoch 8/150\n",
            "9/9 [==============================] - 0s 3ms/step - loss: 123.4330\n",
            "Epoch 9/150\n",
            "9/9 [==============================] - 0s 2ms/step - loss: 114.0132\n",
            "Epoch 10/150\n",
            "9/9 [==============================] - 0s 2ms/step - loss: 107.4234\n",
            "Epoch 11/150\n",
            "9/9 [==============================] - 0s 2ms/step - loss: 104.4599\n",
            "Epoch 12/150\n",
            "9/9 [==============================] - 0s 2ms/step - loss: 101.2019\n",
            "Epoch 13/150\n",
            "9/9 [==============================] - 0s 2ms/step - loss: 100.0005\n",
            "Epoch 14/150\n",
            "9/9 [==============================] - 0s 2ms/step - loss: 99.0917\n",
            "Epoch 15/150\n",
            "9/9 [==============================] - 0s 2ms/step - loss: 87.4426\n",
            "Epoch 16/150\n",
            "9/9 [==============================] - 0s 2ms/step - loss: 79.1848\n",
            "Epoch 17/150\n",
            "9/9 [==============================] - 0s 2ms/step - loss: 90.2205\n",
            "Epoch 18/150\n",
            "9/9 [==============================] - 0s 2ms/step - loss: 81.2333\n",
            "Epoch 19/150\n",
            "9/9 [==============================] - 0s 4ms/step - loss: 112.3086\n",
            "Epoch 20/150\n",
            "9/9 [==============================] - 0s 3ms/step - loss: 98.0177\n",
            "Epoch 21/150\n",
            "9/9 [==============================] - 0s 2ms/step - loss: 105.8227\n",
            "Epoch 22/150\n",
            "9/9 [==============================] - 0s 2ms/step - loss: 94.4779\n",
            "Epoch 23/150\n",
            "9/9 [==============================] - 0s 2ms/step - loss: 91.0144\n",
            "Epoch 24/150\n",
            "9/9 [==============================] - 0s 2ms/step - loss: 91.2779\n",
            "Epoch 25/150\n",
            "9/9 [==============================] - 0s 2ms/step - loss: 91.9308\n",
            "Epoch 26/150\n",
            "9/9 [==============================] - 0s 2ms/step - loss: 93.3529\n",
            "Epoch 27/150\n",
            "9/9 [==============================] - 0s 2ms/step - loss: 97.8078\n",
            "Epoch 28/150\n",
            "9/9 [==============================] - 0s 2ms/step - loss: 93.6310\n",
            "Epoch 29/150\n",
            "9/9 [==============================] - 0s 2ms/step - loss: 93.9170\n",
            "Epoch 30/150\n",
            "9/9 [==============================] - 0s 2ms/step - loss: 92.7224\n",
            "Epoch 31/150\n",
            "9/9 [==============================] - 0s 2ms/step - loss: 90.7394\n",
            "Epoch 32/150\n",
            "9/9 [==============================] - 0s 2ms/step - loss: 91.3766\n",
            "Epoch 33/150\n",
            "9/9 [==============================] - 0s 2ms/step - loss: 91.6666\n",
            "Epoch 34/150\n",
            "9/9 [==============================] - 0s 2ms/step - loss: 91.9276\n",
            "Epoch 35/150\n",
            "9/9 [==============================] - 0s 2ms/step - loss: 91.3492\n",
            "Epoch 36/150\n",
            "9/9 [==============================] - 0s 4ms/step - loss: 91.2757\n",
            "Epoch 37/150\n",
            "9/9 [==============================] - 0s 3ms/step - loss: 91.8016\n",
            "Epoch 38/150\n",
            "9/9 [==============================] - 0s 2ms/step - loss: 91.3660\n",
            "Epoch 39/150\n",
            "9/9 [==============================] - 0s 3ms/step - loss: 92.0787\n",
            "Epoch 40/150\n",
            "9/9 [==============================] - 0s 2ms/step - loss: 91.1283\n",
            "Epoch 41/150\n",
            "9/9 [==============================] - 0s 2ms/step - loss: 91.7670\n",
            "Epoch 42/150\n",
            "9/9 [==============================] - 0s 2ms/step - loss: 91.2032\n",
            "Epoch 43/150\n",
            "9/9 [==============================] - 0s 2ms/step - loss: 91.2111\n",
            "Epoch 44/150\n",
            "9/9 [==============================] - 0s 2ms/step - loss: 91.3656\n",
            "Epoch 45/150\n",
            "9/9 [==============================] - 0s 3ms/step - loss: 91.5588\n",
            "Epoch 46/150\n",
            "9/9 [==============================] - 0s 3ms/step - loss: 91.7664\n",
            "Epoch 47/150\n",
            "9/9 [==============================] - 0s 3ms/step - loss: 91.1904\n",
            "Epoch 48/150\n",
            "9/9 [==============================] - 0s 3ms/step - loss: 91.7895\n",
            "Epoch 49/150\n",
            "9/9 [==============================] - 0s 3ms/step - loss: 91.7996\n",
            "Epoch 50/150\n",
            "9/9 [==============================] - 0s 2ms/step - loss: 91.8414\n",
            "Epoch 51/150\n",
            "9/9 [==============================] - 0s 3ms/step - loss: 91.6194\n",
            "Epoch 52/150\n",
            "9/9 [==============================] - 0s 2ms/step - loss: 91.5386\n",
            "Epoch 53/150\n",
            "9/9 [==============================] - 0s 2ms/step - loss: 91.5441\n",
            "Epoch 54/150\n",
            "9/9 [==============================] - 0s 2ms/step - loss: 91.4181\n",
            "Epoch 55/150\n",
            "9/9 [==============================] - 0s 2ms/step - loss: 91.0018\n",
            "Epoch 56/150\n",
            "9/9 [==============================] - 0s 2ms/step - loss: 91.1304\n",
            "Epoch 57/150\n",
            "9/9 [==============================] - 0s 2ms/step - loss: 92.0576\n",
            "Epoch 58/150\n",
            "9/9 [==============================] - 0s 2ms/step - loss: 91.5709\n",
            "Epoch 59/150\n",
            "9/9 [==============================] - 0s 2ms/step - loss: 91.4162\n",
            "Epoch 60/150\n",
            "9/9 [==============================] - 0s 2ms/step - loss: 91.6663\n",
            "Epoch 61/150\n",
            "9/9 [==============================] - 0s 2ms/step - loss: 91.3992\n",
            "Epoch 62/150\n",
            "9/9 [==============================] - 0s 4ms/step - loss: 91.4104\n",
            "Epoch 63/150\n",
            "9/9 [==============================] - 0s 3ms/step - loss: 91.2760\n",
            "Epoch 64/150\n",
            "9/9 [==============================] - 0s 3ms/step - loss: 91.0929\n",
            "Epoch 65/150\n",
            "9/9 [==============================] - 0s 3ms/step - loss: 92.0611\n",
            "Epoch 66/150\n",
            "9/9 [==============================] - 0s 3ms/step - loss: 92.4316\n",
            "Epoch 67/150\n",
            "9/9 [==============================] - 0s 3ms/step - loss: 91.6736\n",
            "Epoch 68/150\n",
            "9/9 [==============================] - 0s 3ms/step - loss: 91.6095\n",
            "Epoch 69/150\n",
            "9/9 [==============================] - 0s 4ms/step - loss: 91.1502\n",
            "Epoch 70/150\n",
            "9/9 [==============================] - 0s 3ms/step - loss: 90.9615\n",
            "Epoch 71/150\n",
            "9/9 [==============================] - 0s 2ms/step - loss: 91.5814\n",
            "Epoch 72/150\n",
            "9/9 [==============================] - 0s 3ms/step - loss: 91.4003\n",
            "Epoch 73/150\n",
            "9/9 [==============================] - 0s 3ms/step - loss: 91.5125\n",
            "Epoch 74/150\n",
            "9/9 [==============================] - 0s 2ms/step - loss: 91.6501\n",
            "Epoch 75/150\n",
            "9/9 [==============================] - 0s 2ms/step - loss: 91.2590\n",
            "Epoch 76/150\n",
            "9/9 [==============================] - 0s 3ms/step - loss: 90.8479\n",
            "Epoch 77/150\n",
            "9/9 [==============================] - 0s 3ms/step - loss: 92.1407\n",
            "Epoch 78/150\n",
            "9/9 [==============================] - 0s 3ms/step - loss: 91.6554\n",
            "Epoch 79/150\n",
            "9/9 [==============================] - 0s 3ms/step - loss: 91.8600\n",
            "Epoch 80/150\n",
            "9/9 [==============================] - 0s 3ms/step - loss: 91.3432\n",
            "Epoch 81/150\n",
            "9/9 [==============================] - 0s 2ms/step - loss: 91.4989\n",
            "Epoch 82/150\n",
            "9/9 [==============================] - 0s 2ms/step - loss: 91.4588\n",
            "Epoch 83/150\n",
            "9/9 [==============================] - 0s 3ms/step - loss: 91.0770\n",
            "Epoch 84/150\n",
            "9/9 [==============================] - 0s 3ms/step - loss: 91.3179\n",
            "Epoch 85/150\n",
            "9/9 [==============================] - 0s 2ms/step - loss: 91.4886\n",
            "Epoch 86/150\n",
            "9/9 [==============================] - 0s 4ms/step - loss: 92.0307\n",
            "Epoch 87/150\n",
            "9/9 [==============================] - 0s 3ms/step - loss: 91.4372\n",
            "Epoch 88/150\n",
            "9/9 [==============================] - 0s 3ms/step - loss: 91.3513\n",
            "Epoch 89/150\n",
            "9/9 [==============================] - 0s 3ms/step - loss: 91.3884\n",
            "Epoch 90/150\n",
            "9/9 [==============================] - 0s 3ms/step - loss: 91.2476\n",
            "Epoch 91/150\n",
            "9/9 [==============================] - 0s 3ms/step - loss: 91.0455\n",
            "Epoch 92/150\n",
            "9/9 [==============================] - 0s 3ms/step - loss: 91.0198\n",
            "Epoch 93/150\n",
            "9/9 [==============================] - 0s 3ms/step - loss: 91.6732\n",
            "Epoch 94/150\n",
            "9/9 [==============================] - 0s 3ms/step - loss: 91.3075\n",
            "Epoch 95/150\n",
            "9/9 [==============================] - 0s 3ms/step - loss: 91.5796\n",
            "Epoch 96/150\n",
            "9/9 [==============================] - 0s 4ms/step - loss: 91.5368\n",
            "Epoch 97/150\n",
            "9/9 [==============================] - 0s 3ms/step - loss: 92.0927\n",
            "Epoch 98/150\n",
            "9/9 [==============================] - 0s 2ms/step - loss: 91.1421\n",
            "Epoch 99/150\n",
            "9/9 [==============================] - 0s 2ms/step - loss: 91.3476\n",
            "Epoch 100/150\n",
            "9/9 [==============================] - 0s 2ms/step - loss: 91.5576\n",
            "Epoch 101/150\n",
            "9/9 [==============================] - 0s 3ms/step - loss: 91.4788\n",
            "Epoch 102/150\n",
            "9/9 [==============================] - 0s 3ms/step - loss: 91.3535\n",
            "Epoch 103/150\n",
            "9/9 [==============================] - 0s 2ms/step - loss: 91.4423\n",
            "Epoch 104/150\n",
            "9/9 [==============================] - 0s 2ms/step - loss: 91.2583\n",
            "Epoch 105/150\n",
            "9/9 [==============================] - 0s 2ms/step - loss: 92.0516\n",
            "Epoch 106/150\n",
            "9/9 [==============================] - 0s 2ms/step - loss: 91.3417\n",
            "Epoch 107/150\n",
            "9/9 [==============================] - 0s 3ms/step - loss: 91.3740\n",
            "Epoch 108/150\n",
            "9/9 [==============================] - 0s 2ms/step - loss: 92.7125\n",
            "Epoch 109/150\n",
            "9/9 [==============================] - 0s 2ms/step - loss: 91.6538\n",
            "Epoch 110/150\n",
            "9/9 [==============================] - 0s 2ms/step - loss: 91.1776\n",
            "Epoch 111/150\n",
            "9/9 [==============================] - 0s 3ms/step - loss: 92.0013\n",
            "Epoch 112/150\n",
            "9/9 [==============================] - 0s 3ms/step - loss: 91.4418\n",
            "Epoch 113/150\n",
            "9/9 [==============================] - 0s 3ms/step - loss: 91.3328\n",
            "Epoch 114/150\n",
            "9/9 [==============================] - 0s 3ms/step - loss: 91.2535\n",
            "Epoch 115/150\n",
            "9/9 [==============================] - 0s 3ms/step - loss: 91.1082\n",
            "Epoch 116/150\n",
            "9/9 [==============================] - 0s 2ms/step - loss: 91.3398\n",
            "Epoch 117/150\n",
            "9/9 [==============================] - 0s 2ms/step - loss: 90.9709\n",
            "Epoch 118/150\n",
            "9/9 [==============================] - 0s 2ms/step - loss: 91.4461\n",
            "Epoch 119/150\n",
            "9/9 [==============================] - 0s 2ms/step - loss: 91.1214\n",
            "Epoch 120/150\n",
            "9/9 [==============================] - 0s 2ms/step - loss: 91.8523\n",
            "Epoch 121/150\n",
            "9/9 [==============================] - 0s 2ms/step - loss: 90.9501\n",
            "Epoch 122/150\n",
            "9/9 [==============================] - 0s 2ms/step - loss: 91.5406\n",
            "Epoch 123/150\n",
            "9/9 [==============================] - 0s 2ms/step - loss: 90.8794\n",
            "Epoch 124/150\n",
            "9/9 [==============================] - 0s 2ms/step - loss: 91.3366\n",
            "Epoch 125/150\n",
            "9/9 [==============================] - 0s 3ms/step - loss: 91.3094\n",
            "Epoch 126/150\n",
            "9/9 [==============================] - 0s 2ms/step - loss: 91.6454\n",
            "Epoch 127/150\n",
            "9/9 [==============================] - 0s 2ms/step - loss: 91.6859\n",
            "Epoch 128/150\n",
            "9/9 [==============================] - 0s 3ms/step - loss: 91.1689\n",
            "Epoch 129/150\n",
            "9/9 [==============================] - 0s 3ms/step - loss: 91.6614\n",
            "Epoch 130/150\n",
            "9/9 [==============================] - 0s 2ms/step - loss: 91.1180\n",
            "Epoch 131/150\n",
            "9/9 [==============================] - 0s 2ms/step - loss: 91.4453\n",
            "Epoch 132/150\n",
            "9/9 [==============================] - 0s 2ms/step - loss: 91.6969\n",
            "Epoch 133/150\n",
            "9/9 [==============================] - 0s 2ms/step - loss: 91.2978\n",
            "Epoch 134/150\n",
            "9/9 [==============================] - 0s 2ms/step - loss: 92.0061\n",
            "Epoch 135/150\n",
            "9/9 [==============================] - 0s 2ms/step - loss: 91.4482\n",
            "Epoch 136/150\n",
            "9/9 [==============================] - 0s 3ms/step - loss: 92.2992\n",
            "Epoch 137/150\n",
            "9/9 [==============================] - 0s 3ms/step - loss: 90.9415\n",
            "Epoch 138/150\n",
            "9/9 [==============================] - 0s 2ms/step - loss: 91.2908\n",
            "Epoch 139/150\n",
            "9/9 [==============================] - 0s 2ms/step - loss: 91.7350\n",
            "Epoch 140/150\n",
            "9/9 [==============================] - 0s 2ms/step - loss: 91.2699\n",
            "Epoch 141/150\n",
            "9/9 [==============================] - 0s 2ms/step - loss: 91.2530\n",
            "Epoch 142/150\n",
            "9/9 [==============================] - 0s 2ms/step - loss: 91.4853\n",
            "Epoch 143/150\n",
            "9/9 [==============================] - 0s 2ms/step - loss: 91.6344\n",
            "Epoch 144/150\n",
            "9/9 [==============================] - 0s 2ms/step - loss: 91.2931\n",
            "Epoch 145/150\n",
            "9/9 [==============================] - 0s 2ms/step - loss: 91.1765\n",
            "Epoch 146/150\n",
            "9/9 [==============================] - 0s 2ms/step - loss: 91.3323\n",
            "Epoch 147/150\n",
            "9/9 [==============================] - 0s 4ms/step - loss: 91.3602\n",
            "Epoch 148/150\n",
            "9/9 [==============================] - 0s 3ms/step - loss: 91.2667\n",
            "Epoch 149/150\n",
            "9/9 [==============================] - 0s 2ms/step - loss: 91.8488\n",
            "Epoch 150/150\n",
            "9/9 [==============================] - 0s 2ms/step - loss: 91.6151\n",
            "3/3 [==============================] - 0s 4ms/step - loss: 72.8750\n"
          ],
          "name": "stdout"
        },
        {
          "output_type": "execute_result",
          "data": {
            "text/plain": [
              "72.87498474121094"
            ]
          },
          "metadata": {
            "tags": []
          },
          "execution_count": 29
        }
      ]
    },
    {
      "cell_type": "code",
      "metadata": {
        "id": "XONFe1sOnyvG",
        "colab_type": "code",
        "colab": {
          "base_uri": "https://localhost:8080/",
          "height": 391
        },
        "outputId": "07d7d4a0-accc-4c35-a706-d4559d69d491"
      },
      "source": [
        "from sklearn.model_selection import GridSearchCV\n",
        "\n",
        "# 1. Define the model's architecture\n",
        "model = Sequential()\n",
        "model.add(Dense(10, activation='relu', input_shape=(n_feat,)))\n",
        "model.add(Dense(8, activation='relu'))\n",
        "model.add(Dense(1))\n",
        "optimizer = RMSprop(0.1)    # 0.1 is the learning rate\n",
        "model.compile(loss='mean_squared_error',optimizer=optimizer)    # compile the model\n",
        "\n",
        "# 2. Define the hyperparameters grid to be validated\n",
        "batch_size = [10, 20, 40, 60, 80, 100]\n",
        "epochs = [10, 50, 100]\n",
        "param_grid = dict(batch_size=batch_size, epochs=epochs)\n",
        "grid = GridSearchCV(estimator=model, param_grid=param_grid, scoring='neg_mean_squared_error', n_jobs=-1)\n",
        "\n",
        "# 3. Run the GridSearchCV process\n",
        "grid_result = grid.fit(X_train, y_train)\n",
        "\n",
        "# 4. Print the results of the best model\n",
        "print(\"Best: %f using %s\" % (grid_result.best_score_, grid_result.best_params_))"
      ],
      "execution_count": null,
      "outputs": [
        {
          "output_type": "error",
          "ename": "TypeError",
          "evalue": "ignored",
          "traceback": [
            "\u001b[0;31m---------------------------------------------------------------------------\u001b[0m",
            "\u001b[0;31mTypeError\u001b[0m                                 Traceback (most recent call last)",
            "\u001b[0;32m<ipython-input-15-c9ed3773d1c8>\u001b[0m in \u001b[0;36m<module>\u001b[0;34m()\u001b[0m\n\u001b[1;32m     16\u001b[0m \u001b[0;34m\u001b[0m\u001b[0m\n\u001b[1;32m     17\u001b[0m \u001b[0;31m# 3. Run the GridSearchCV process\u001b[0m\u001b[0;34m\u001b[0m\u001b[0;34m\u001b[0m\u001b[0;34m\u001b[0m\u001b[0m\n\u001b[0;32m---> 18\u001b[0;31m \u001b[0mgrid_result\u001b[0m \u001b[0;34m=\u001b[0m \u001b[0mgrid\u001b[0m\u001b[0;34m.\u001b[0m\u001b[0mfit\u001b[0m\u001b[0;34m(\u001b[0m\u001b[0mX_train\u001b[0m\u001b[0;34m,\u001b[0m \u001b[0my_train\u001b[0m\u001b[0;34m)\u001b[0m\u001b[0;34m\u001b[0m\u001b[0;34m\u001b[0m\u001b[0m\n\u001b[0m\u001b[1;32m     19\u001b[0m \u001b[0;34m\u001b[0m\u001b[0m\n\u001b[1;32m     20\u001b[0m \u001b[0;31m# 4. Print the results of the best model\u001b[0m\u001b[0;34m\u001b[0m\u001b[0;34m\u001b[0m\u001b[0;34m\u001b[0m\u001b[0m\n",
            "\u001b[0;32m/usr/local/lib/python3.6/dist-packages/sklearn/model_selection/_search.py\u001b[0m in \u001b[0;36mfit\u001b[0;34m(self, X, y, groups, **fit_params)\u001b[0m\n\u001b[1;32m    653\u001b[0m         \u001b[0mn_splits\u001b[0m \u001b[0;34m=\u001b[0m \u001b[0mcv\u001b[0m\u001b[0;34m.\u001b[0m\u001b[0mget_n_splits\u001b[0m\u001b[0;34m(\u001b[0m\u001b[0mX\u001b[0m\u001b[0;34m,\u001b[0m \u001b[0my\u001b[0m\u001b[0;34m,\u001b[0m \u001b[0mgroups\u001b[0m\u001b[0;34m)\u001b[0m\u001b[0;34m\u001b[0m\u001b[0;34m\u001b[0m\u001b[0m\n\u001b[1;32m    654\u001b[0m \u001b[0;34m\u001b[0m\u001b[0m\n\u001b[0;32m--> 655\u001b[0;31m         \u001b[0mbase_estimator\u001b[0m \u001b[0;34m=\u001b[0m \u001b[0mclone\u001b[0m\u001b[0;34m(\u001b[0m\u001b[0mself\u001b[0m\u001b[0;34m.\u001b[0m\u001b[0mestimator\u001b[0m\u001b[0;34m)\u001b[0m\u001b[0;34m\u001b[0m\u001b[0;34m\u001b[0m\u001b[0m\n\u001b[0m\u001b[1;32m    656\u001b[0m \u001b[0;34m\u001b[0m\u001b[0m\n\u001b[1;32m    657\u001b[0m         parallel = Parallel(n_jobs=self.n_jobs, verbose=self.verbose,\n",
            "\u001b[0;32m/usr/local/lib/python3.6/dist-packages/sklearn/base.py\u001b[0m in \u001b[0;36mclone\u001b[0;34m(estimator, safe)\u001b[0m\n\u001b[1;32m     65\u001b[0m                             \u001b[0;34m\"it does not seem to be a scikit-learn estimator \"\u001b[0m\u001b[0;34m\u001b[0m\u001b[0;34m\u001b[0m\u001b[0m\n\u001b[1;32m     66\u001b[0m                             \u001b[0;34m\"as it does not implement a 'get_params' methods.\"\u001b[0m\u001b[0;34m\u001b[0m\u001b[0;34m\u001b[0m\u001b[0m\n\u001b[0;32m---> 67\u001b[0;31m                             % (repr(estimator), type(estimator)))\n\u001b[0m\u001b[1;32m     68\u001b[0m     \u001b[0mklass\u001b[0m \u001b[0;34m=\u001b[0m \u001b[0mestimator\u001b[0m\u001b[0;34m.\u001b[0m\u001b[0m__class__\u001b[0m\u001b[0;34m\u001b[0m\u001b[0;34m\u001b[0m\u001b[0m\n\u001b[1;32m     69\u001b[0m     \u001b[0mnew_object_params\u001b[0m \u001b[0;34m=\u001b[0m \u001b[0mestimator\u001b[0m\u001b[0;34m.\u001b[0m\u001b[0mget_params\u001b[0m\u001b[0;34m(\u001b[0m\u001b[0mdeep\u001b[0m\u001b[0;34m=\u001b[0m\u001b[0;32mFalse\u001b[0m\u001b[0;34m)\u001b[0m\u001b[0;34m\u001b[0m\u001b[0;34m\u001b[0m\u001b[0m\n",
            "\u001b[0;31mTypeError\u001b[0m: Cannot clone object '<tensorflow.python.keras.engine.sequential.Sequential object at 0x7f650a7b1240>' (type <class 'tensorflow.python.keras.engine.sequential.Sequential'>): it does not seem to be a scikit-learn estimator as it does not implement a 'get_params' methods."
          ]
        }
      ]
    },
    {
      "cell_type": "code",
      "metadata": {
        "id": "lVEnqVc4oYRr",
        "colab_type": "code",
        "colab": {
          "base_uri": "https://localhost:8080/",
          "height": 51
        },
        "outputId": "35527728-9ff5-49ca-94db-7e93e4b01442"
      },
      "source": [
        "\n",
        "# ----------------------------- Functional Tuning - Option 1: using Sklearn  ------------------------------\n",
        "# Goal: tune the batch size and epochs\n",
        "\n",
        "# Import KerasRegressor class\n",
        "from keras.wrappers.scikit_learn import KerasRegressor\n",
        "\n",
        "# Define the model trhough a user-defined function\n",
        "def create_model(optimizer=RMSprop(0.01)):\n",
        "  model = Sequential()\n",
        "  model.add(Dense(10, activation='relu', input_shape=(n_feat,)))\n",
        "  model.add(Dense(8, activation='relu'))\n",
        "  model.add(Dense(1))\n",
        "  model.compile(loss='mse', metrics=['mse'], optimizer=optimizer)    # compile the model\n",
        "  return model\n",
        "model = KerasRegressor(build_fn=create_model, verbose=1)\n",
        "\n",
        "# Define the hyperparameters grid to be validated\n",
        "batch_size = [10, 20, 30, 40, 60, 80, 100]\n",
        "epochs = [10, 50, 100]\n",
        "param_grid = dict(batch_size=batch_size, nb_epoch=epochs)\n",
        "model = KerasRegressor(build_fn=create_model, verbose=1)\n",
        "grid = GridSearchCV(estimator=model, param_grid=param_grid, cv=5, n_jobs=-1)\n",
        "\n",
        "# Run the GridSearchCV process\n",
        "grid_result = grid.fit(X_train, y_train, verbose = 1)\n",
        "\n",
        "# Print the results of the best model\n",
        "print('Best params: ' + str(grid_result.best_params_))"
      ],
      "execution_count": null,
      "outputs": [
        {
          "output_type": "stream",
          "text": [
            "17/17 [==============================] - 0s 1ms/step - loss: 228.9981 - mse: 228.9981\n",
            "Best params: {'batch_size': 20, 'nb_epoch': 100}\n"
          ],
          "name": "stdout"
        }
      ]
    },
    {
      "cell_type": "code",
      "metadata": {
        "id": "qX3NvcpXpiKL",
        "colab_type": "code",
        "colab": {
          "base_uri": "https://localhost:8080/",
          "height": 326
        },
        "outputId": "7dccae02-8cfe-4d86-ce0e-3c168431b475"
      },
      "source": [
        "# Import the cross validation evaluator\n",
        "from sklearn.model_selection import cross_val_score\n",
        "\n",
        "# Measure the model's performance\n",
        "results = cross_val_score(grid.best_estimator_, X_test, y_test, cv=5)\n",
        "print('Results: \\n  * Mean:', -results.mean(), '\\n  * Std:', results.std())"
      ],
      "execution_count": null,
      "outputs": [
        {
          "output_type": "stream",
          "text": [
            "4/4 [==============================] - 0s 2ms/step - loss: 2687.1655 - mse: 2687.1655\n",
            "1/1 [==============================] - 0s 1ms/step - loss: 499.9689 - mse: 499.9689\n",
            "4/4 [==============================] - 0s 2ms/step - loss: 255.6286 - mse: 255.6286\n",
            "WARNING:tensorflow:5 out of the last 11 calls to <function Model.make_test_function.<locals>.test_function at 0x7f6507287840> triggered tf.function retracing. Tracing is expensive and the excessive number of tracings could be due to (1) creating @tf.function repeatedly in a loop, (2) passing tensors with different shapes, (3) passing Python objects instead of tensors. For (1), please define your @tf.function outside of the loop. For (2), @tf.function has experimental_relax_shapes=True option that relaxes argument shapes that can avoid unnecessary retracing. For (3), please refer to https://www.tensorflow.org/tutorials/customization/performance#python_or_tensor_args and https://www.tensorflow.org/api_docs/python/tf/function for  more details.\n",
            "1/1 [==============================] - 0s 2ms/step - loss: 104.3210 - mse: 104.3210\n",
            "4/4 [==============================] - 0s 3ms/step - loss: 1456.9390 - mse: 1456.9390\n",
            "WARNING:tensorflow:6 out of the last 12 calls to <function Model.make_test_function.<locals>.test_function at 0x7f650e79c158> triggered tf.function retracing. Tracing is expensive and the excessive number of tracings could be due to (1) creating @tf.function repeatedly in a loop, (2) passing tensors with different shapes, (3) passing Python objects instead of tensors. For (1), please define your @tf.function outside of the loop. For (2), @tf.function has experimental_relax_shapes=True option that relaxes argument shapes that can avoid unnecessary retracing. For (3), please refer to https://www.tensorflow.org/tutorials/customization/performance#python_or_tensor_args and https://www.tensorflow.org/api_docs/python/tf/function for  more details.\n",
            "1/1 [==============================] - 0s 1ms/step - loss: 939.7118 - mse: 939.7118\n",
            "4/4 [==============================] - 0s 3ms/step - loss: 401.1976 - mse: 401.1976\n",
            "WARNING:tensorflow:7 out of the last 13 calls to <function Model.make_test_function.<locals>.test_function at 0x7f6509d0d268> triggered tf.function retracing. Tracing is expensive and the excessive number of tracings could be due to (1) creating @tf.function repeatedly in a loop, (2) passing tensors with different shapes, (3) passing Python objects instead of tensors. For (1), please define your @tf.function outside of the loop. For (2), @tf.function has experimental_relax_shapes=True option that relaxes argument shapes that can avoid unnecessary retracing. For (3), please refer to https://www.tensorflow.org/tutorials/customization/performance#python_or_tensor_args and https://www.tensorflow.org/api_docs/python/tf/function for  more details.\n",
            "1/1 [==============================] - 0s 1ms/step - loss: 253.3297 - mse: 253.3297\n",
            "4/4 [==============================] - 0s 2ms/step - loss: 383.7807 - mse: 383.7807\n",
            "WARNING:tensorflow:7 out of the last 11 calls to <function Model.make_test_function.<locals>.test_function at 0x7f6509d38730> triggered tf.function retracing. Tracing is expensive and the excessive number of tracings could be due to (1) creating @tf.function repeatedly in a loop, (2) passing tensors with different shapes, (3) passing Python objects instead of tensors. For (1), please define your @tf.function outside of the loop. For (2), @tf.function has experimental_relax_shapes=True option that relaxes argument shapes that can avoid unnecessary retracing. For (3), please refer to https://www.tensorflow.org/tutorials/customization/performance#python_or_tensor_args and https://www.tensorflow.org/api_docs/python/tf/function for  more details.\n",
            "1/1 [==============================] - 0s 2ms/step - loss: 99.6297 - mse: 99.6297\n",
            "Results: \n",
            "  * Mean: 379.39221038818357 \n",
            "  * Std: 315.69597896397875\n"
          ],
          "name": "stdout"
        }
      ]
    },
    {
      "cell_type": "code",
      "metadata": {
        "id": "9PqAEOyYpuWa",
        "colab_type": "code",
        "colab": {
          "base_uri": "https://localhost:8080/",
          "height": 1000
        },
        "outputId": "9834f285-1a29-4dad-bbc2-59cc26f7e16d"
      },
      "source": [
        "# ----------------------------- Functional Tuning - Option 2: using Keras Tuner ------------------------------\n",
        "# Goal: tune the learning rate\n",
        "\n",
        "# 0. Install and import all the packages needed\n",
        "!pip install -q -U keras-tuner\n",
        "import kerastuner as kt\n",
        "\n",
        "# 1. Define the general architecture of the model through a creation user-defined function\n",
        "def model_builder(hp):\n",
        "  model = Sequential()\n",
        "  model.add(Dense(10, activation='relu', input_shape=(n_feat,)))\n",
        "  model.add(Dense(8, activation='relu'))\n",
        "  model.add(Dense(1))\n",
        "  hp_learning_rate = hp.Choice('learning_rate', values = [1e-1, 1e-2, 1e-3, 1e-4]) # Tuning the learning rate (four different values to test: 0.1, 0.01, 0.001, 0.0001)\n",
        "  optimizer = RMSprop(learning_rate = hp_learning_rate)                            # Defining the optimizer\n",
        "  model.compile(loss='mse',metrics=['mse'], optimizer=optimizer)                   # Compiling the model \n",
        "  return model                                                                     # Returning the defined model\n",
        "\n",
        "# 2. Define the hyperparameters grid to be validated\n",
        "tuner_rs = kt.RandomSearch(\n",
        "              model_builder,                # Takes hyperparameters (hp) and returns a Model instance\n",
        "              objective = 'mse',            # Name of model metric to minimize or maximize\n",
        "              seed = 42,                    # Random seed for replication purposes\n",
        "              max_trials = 5,               # Total number of trials (model configurations) to test at most. Note that the oracle may interrupt the search before max_trial models have been tested.\n",
        "              directory='random_search')    # Path to the working directory (relative).\n",
        "\n",
        "# 3. Run the GridSearchCV process\n",
        "tuner_rs.search(X_train, y_train, epochs=10, validation_split=0.2, verbose=1)"
      ],
      "execution_count": null,
      "outputs": [
        {
          "output_type": "stream",
          "text": [
            "\u001b[?25l\r\u001b[K     |██████                          | 10kB 22.1MB/s eta 0:00:01\r\u001b[K     |████████████                    | 20kB 1.7MB/s eta 0:00:01\r\u001b[K     |██████████████████              | 30kB 2.2MB/s eta 0:00:01\r\u001b[K     |████████████████████████        | 40kB 2.5MB/s eta 0:00:01\r\u001b[K     |██████████████████████████████  | 51kB 2.0MB/s eta 0:00:01\r\u001b[K     |████████████████████████████████| 61kB 1.7MB/s \n",
            "\u001b[?25h  Building wheel for keras-tuner (setup.py) ... \u001b[?25l\u001b[?25hdone\n",
            "  Building wheel for terminaltables (setup.py) ... \u001b[?25l\u001b[?25hdone\n",
            "Epoch 1/10\n",
            "1/9 [==>...........................] - ETA: 0s - loss: 1283.6287 - mse: 1283.6287WARNING:tensorflow:8 out of the last 12 calls to <function Model.make_test_function.<locals>.test_function at 0x7f650c10fae8> triggered tf.function retracing. Tracing is expensive and the excessive number of tracings could be due to (1) creating @tf.function repeatedly in a loop, (2) passing tensors with different shapes, (3) passing Python objects instead of tensors. For (1), please define your @tf.function outside of the loop. For (2), @tf.function has experimental_relax_shapes=True option that relaxes argument shapes that can avoid unnecessary retracing. For (3), please refer to https://www.tensorflow.org/tutorials/customization/performance#python_or_tensor_args and https://www.tensorflow.org/api_docs/python/tf/function for  more details.\n",
            "9/9 [==============================] - 0s 23ms/step - loss: 4675.1582 - mse: 4675.1582 - val_loss: 169.0646 - val_mse: 169.0646\n",
            "Epoch 2/10\n",
            "9/9 [==============================] - 0s 5ms/step - loss: 209.5235 - mse: 209.5235 - val_loss: 1185.3390 - val_mse: 1185.3390\n",
            "Epoch 3/10\n",
            "9/9 [==============================] - 0s 5ms/step - loss: 653.5229 - mse: 653.5229 - val_loss: 380.2364 - val_mse: 380.2364\n",
            "Epoch 4/10\n",
            "9/9 [==============================] - 0s 4ms/step - loss: 431.4388 - mse: 431.4388 - val_loss: 356.8013 - val_mse: 356.8013\n",
            "Epoch 5/10\n",
            "9/9 [==============================] - 0s 4ms/step - loss: 420.7769 - mse: 420.7769 - val_loss: 255.2126 - val_mse: 255.2126\n",
            "Epoch 6/10\n",
            "9/9 [==============================] - 0s 4ms/step - loss: 295.7278 - mse: 295.7278 - val_loss: 139.7283 - val_mse: 139.7283\n",
            "Epoch 7/10\n",
            "9/9 [==============================] - 0s 5ms/step - loss: 163.4240 - mse: 163.4240 - val_loss: 56.8939 - val_mse: 56.8939\n",
            "Epoch 8/10\n",
            "9/9 [==============================] - 0s 7ms/step - loss: 95.1424 - mse: 95.1424 - val_loss: 52.9014 - val_mse: 52.9014\n",
            "Epoch 9/10\n",
            "9/9 [==============================] - 0s 6ms/step - loss: 90.3958 - mse: 90.3958 - val_loss: 53.4699 - val_mse: 53.4699\n",
            "Epoch 10/10\n",
            "9/9 [==============================] - 0s 4ms/step - loss: 98.9858 - mse: 98.9858 - val_loss: 92.8734 - val_mse: 92.8734\n"
          ],
          "name": "stdout"
        },
        {
          "output_type": "display_data",
          "data": {
            "text/html": [
              "<span style=\"color:#4527A0\"><h1 style=\"font-size:18px\">Trial complete</h1></span>"
            ],
            "text/plain": [
              "<IPython.core.display.HTML object>"
            ]
          },
          "metadata": {
            "tags": []
          }
        },
        {
          "output_type": "display_data",
          "data": {
            "text/html": [
              "<span style=\"color:#4527A0\"><h1 style=\"font-size:18px\">Trial summary</h1></span>"
            ],
            "text/plain": [
              "<IPython.core.display.HTML object>"
            ]
          },
          "metadata": {
            "tags": []
          }
        },
        {
          "output_type": "display_data",
          "data": {
            "text/html": [
              "<span style=\"color:cyan\"> |-Trial ID: 21ddffe30d987f307a7b61e808a9feb2</span>"
            ],
            "text/plain": [
              "<IPython.core.display.HTML object>"
            ]
          },
          "metadata": {
            "tags": []
          }
        },
        {
          "output_type": "display_data",
          "data": {
            "text/html": [
              "<span style=\"color:cyan\"> |-Score: 90.39581298828125</span>"
            ],
            "text/plain": [
              "<IPython.core.display.HTML object>"
            ]
          },
          "metadata": {
            "tags": []
          }
        },
        {
          "output_type": "display_data",
          "data": {
            "text/html": [
              "<span style=\"color:cyan\"> |-Best step: 0</span>"
            ],
            "text/plain": [
              "<IPython.core.display.HTML object>"
            ]
          },
          "metadata": {
            "tags": []
          }
        },
        {
          "output_type": "display_data",
          "data": {
            "text/html": [
              "<span style=\"color:#7E57C2\"><h2 style=\"font-size:16px\">Hyperparameters:</h2></span>"
            ],
            "text/plain": [
              "<IPython.core.display.HTML object>"
            ]
          },
          "metadata": {
            "tags": []
          }
        },
        {
          "output_type": "display_data",
          "data": {
            "text/html": [
              "<span style=\"color:cyan\"> |-learning_rate: 0.1</span>"
            ],
            "text/plain": [
              "<IPython.core.display.HTML object>"
            ]
          },
          "metadata": {
            "tags": []
          }
        },
        {
          "output_type": "stream",
          "text": [
            "Epoch 1/10\n",
            "9/9 [==============================] - 0s 18ms/step - loss: 3574.3208 - mse: 3574.3208 - val_loss: 3839.3616 - val_mse: 3839.3616\n",
            "Epoch 2/10\n",
            "9/9 [==============================] - 0s 7ms/step - loss: 3362.5635 - mse: 3362.5635 - val_loss: 3673.7263 - val_mse: 3673.7263\n",
            "Epoch 3/10\n",
            "9/9 [==============================] - 0s 5ms/step - loss: 3214.9663 - mse: 3214.9663 - val_loss: 3520.7925 - val_mse: 3520.7925\n",
            "Epoch 4/10\n",
            "9/9 [==============================] - 0s 6ms/step - loss: 3076.6116 - mse: 3076.6116 - val_loss: 3372.2688 - val_mse: 3372.2688\n",
            "Epoch 5/10\n",
            "9/9 [==============================] - 0s 6ms/step - loss: 2942.7175 - mse: 2942.7175 - val_loss: 3226.3989 - val_mse: 3226.3989\n",
            "Epoch 6/10\n",
            "9/9 [==============================] - 0s 5ms/step - loss: 2811.0466 - mse: 2811.0466 - val_loss: 3071.1599 - val_mse: 3071.1599\n",
            "Epoch 7/10\n",
            "9/9 [==============================] - 0s 5ms/step - loss: 2676.0095 - mse: 2676.0095 - val_loss: 2937.7944 - val_mse: 2937.7944\n",
            "Epoch 8/10\n",
            "9/9 [==============================] - 0s 5ms/step - loss: 2554.6921 - mse: 2554.6921 - val_loss: 2800.7515 - val_mse: 2800.7515\n",
            "Epoch 9/10\n",
            "9/9 [==============================] - 0s 6ms/step - loss: 2432.3572 - mse: 2432.3572 - val_loss: 2670.1465 - val_mse: 2670.1465\n",
            "Epoch 10/10\n",
            "9/9 [==============================] - 0s 5ms/step - loss: 2314.4905 - mse: 2314.4905 - val_loss: 2554.4905 - val_mse: 2554.4905\n"
          ],
          "name": "stdout"
        },
        {
          "output_type": "display_data",
          "data": {
            "text/html": [
              "<span style=\"color:#4527A0\"><h1 style=\"font-size:18px\">Trial complete</h1></span>"
            ],
            "text/plain": [
              "<IPython.core.display.HTML object>"
            ]
          },
          "metadata": {
            "tags": []
          }
        },
        {
          "output_type": "display_data",
          "data": {
            "text/html": [
              "<span style=\"color:#4527A0\"><h1 style=\"font-size:18px\">Trial summary</h1></span>"
            ],
            "text/plain": [
              "<IPython.core.display.HTML object>"
            ]
          },
          "metadata": {
            "tags": []
          }
        },
        {
          "output_type": "display_data",
          "data": {
            "text/html": [
              "<span style=\"color:cyan\"> |-Trial ID: 0002ab404e9925f125392fda4314ba28</span>"
            ],
            "text/plain": [
              "<IPython.core.display.HTML object>"
            ]
          },
          "metadata": {
            "tags": []
          }
        },
        {
          "output_type": "display_data",
          "data": {
            "text/html": [
              "<span style=\"color:cyan\"> |-Score: 2314.490478515625</span>"
            ],
            "text/plain": [
              "<IPython.core.display.HTML object>"
            ]
          },
          "metadata": {
            "tags": []
          }
        },
        {
          "output_type": "display_data",
          "data": {
            "text/html": [
              "<span style=\"color:cyan\"> |-Best step: 0</span>"
            ],
            "text/plain": [
              "<IPython.core.display.HTML object>"
            ]
          },
          "metadata": {
            "tags": []
          }
        },
        {
          "output_type": "display_data",
          "data": {
            "text/html": [
              "<span style=\"color:#7E57C2\"><h2 style=\"font-size:16px\">Hyperparameters:</h2></span>"
            ],
            "text/plain": [
              "<IPython.core.display.HTML object>"
            ]
          },
          "metadata": {
            "tags": []
          }
        },
        {
          "output_type": "display_data",
          "data": {
            "text/html": [
              "<span style=\"color:cyan\"> |-learning_rate: 0.0001</span>"
            ],
            "text/plain": [
              "<IPython.core.display.HTML object>"
            ]
          },
          "metadata": {
            "tags": []
          }
        },
        {
          "output_type": "stream",
          "text": [
            "Epoch 1/10\n",
            "9/9 [==============================] - 0s 20ms/step - loss: 4033.2134 - mse: 4033.2134 - val_loss: 2942.8396 - val_mse: 2942.8396\n",
            "Epoch 2/10\n",
            "9/9 [==============================] - 0s 6ms/step - loss: 2425.2607 - mse: 2425.2607 - val_loss: 1964.7509 - val_mse: 1964.7509\n",
            "Epoch 3/10\n",
            "9/9 [==============================] - 0s 5ms/step - loss: 1607.3226 - mse: 1607.3226 - val_loss: 1309.1667 - val_mse: 1309.1667\n",
            "Epoch 4/10\n",
            "9/9 [==============================] - 0s 5ms/step - loss: 1061.3152 - mse: 1061.3152 - val_loss: 884.8987 - val_mse: 884.8987\n",
            "Epoch 5/10\n",
            "9/9 [==============================] - 0s 5ms/step - loss: 716.0215 - mse: 716.0215 - val_loss: 575.6825 - val_mse: 575.6825\n",
            "Epoch 6/10\n",
            "9/9 [==============================] - 0s 5ms/step - loss: 475.3663 - mse: 475.3663 - val_loss: 346.7271 - val_mse: 346.7271\n",
            "Epoch 7/10\n",
            "9/9 [==============================] - 0s 5ms/step - loss: 302.8167 - mse: 302.8167 - val_loss: 235.1129 - val_mse: 235.1129\n",
            "Epoch 8/10\n",
            "9/9 [==============================] - 0s 5ms/step - loss: 213.3234 - mse: 213.3234 - val_loss: 140.6013 - val_mse: 140.6013\n",
            "Epoch 9/10\n",
            "9/9 [==============================] - 0s 5ms/step - loss: 150.6227 - mse: 150.6227 - val_loss: 96.4342 - val_mse: 96.4342\n",
            "Epoch 10/10\n",
            "9/9 [==============================] - 0s 5ms/step - loss: 119.9222 - mse: 119.9222 - val_loss: 86.4523 - val_mse: 86.4523\n"
          ],
          "name": "stdout"
        },
        {
          "output_type": "display_data",
          "data": {
            "text/html": [
              "<span style=\"color:#4527A0\"><h1 style=\"font-size:18px\">Trial complete</h1></span>"
            ],
            "text/plain": [
              "<IPython.core.display.HTML object>"
            ]
          },
          "metadata": {
            "tags": []
          }
        },
        {
          "output_type": "display_data",
          "data": {
            "text/html": [
              "<span style=\"color:#4527A0\"><h1 style=\"font-size:18px\">Trial summary</h1></span>"
            ],
            "text/plain": [
              "<IPython.core.display.HTML object>"
            ]
          },
          "metadata": {
            "tags": []
          }
        },
        {
          "output_type": "display_data",
          "data": {
            "text/html": [
              "<span style=\"color:cyan\"> |-Trial ID: 8c981cc9e599ba4024b3e104db2f5737</span>"
            ],
            "text/plain": [
              "<IPython.core.display.HTML object>"
            ]
          },
          "metadata": {
            "tags": []
          }
        },
        {
          "output_type": "display_data",
          "data": {
            "text/html": [
              "<span style=\"color:cyan\"> |-Score: 119.92223358154297</span>"
            ],
            "text/plain": [
              "<IPython.core.display.HTML object>"
            ]
          },
          "metadata": {
            "tags": []
          }
        },
        {
          "output_type": "display_data",
          "data": {
            "text/html": [
              "<span style=\"color:cyan\"> |-Best step: 0</span>"
            ],
            "text/plain": [
              "<IPython.core.display.HTML object>"
            ]
          },
          "metadata": {
            "tags": []
          }
        },
        {
          "output_type": "display_data",
          "data": {
            "text/html": [
              "<span style=\"color:#7E57C2\"><h2 style=\"font-size:16px\">Hyperparameters:</h2></span>"
            ],
            "text/plain": [
              "<IPython.core.display.HTML object>"
            ]
          },
          "metadata": {
            "tags": []
          }
        },
        {
          "output_type": "display_data",
          "data": {
            "text/html": [
              "<span style=\"color:cyan\"> |-learning_rate: 0.001</span>"
            ],
            "text/plain": [
              "<IPython.core.display.HTML object>"
            ]
          },
          "metadata": {
            "tags": []
          }
        },
        {
          "output_type": "stream",
          "text": [
            "Epoch 1/10\n",
            "9/9 [==============================] - 0s 20ms/step - loss: 668.9055 - mse: 668.9055 - val_loss: 119.1125 - val_mse: 119.1125\n",
            "Epoch 2/10\n",
            "9/9 [==============================] - 0s 6ms/step - loss: 88.2320 - mse: 88.2320 - val_loss: 111.7909 - val_mse: 111.7909\n",
            "Epoch 3/10\n",
            "9/9 [==============================] - 0s 4ms/step - loss: 131.1210 - mse: 131.1210 - val_loss: 95.0019 - val_mse: 95.0019\n",
            "Epoch 4/10\n",
            "9/9 [==============================] - 0s 4ms/step - loss: 191.9034 - mse: 191.9034 - val_loss: 587.5906 - val_mse: 587.5906\n",
            "Epoch 5/10\n",
            "9/9 [==============================] - 0s 4ms/step - loss: 117.7653 - mse: 117.7653 - val_loss: 107.5262 - val_mse: 107.5262\n",
            "Epoch 6/10\n",
            "9/9 [==============================] - 0s 4ms/step - loss: 117.6799 - mse: 117.6799 - val_loss: 352.6000 - val_mse: 352.6000\n",
            "Epoch 7/10\n",
            "9/9 [==============================] - 0s 5ms/step - loss: 161.4068 - mse: 161.4068 - val_loss: 512.9182 - val_mse: 512.9182\n",
            "Epoch 8/10\n",
            "9/9 [==============================] - 0s 4ms/step - loss: 172.4520 - mse: 172.4520 - val_loss: 55.4819 - val_mse: 55.4819\n",
            "Epoch 9/10\n",
            "9/9 [==============================] - 0s 5ms/step - loss: 81.2128 - mse: 81.2128 - val_loss: 44.3167 - val_mse: 44.3167\n",
            "Epoch 10/10\n",
            "9/9 [==============================] - 0s 4ms/step - loss: 99.1823 - mse: 99.1823 - val_loss: 291.9239 - val_mse: 291.9239\n"
          ],
          "name": "stdout"
        },
        {
          "output_type": "display_data",
          "data": {
            "text/html": [
              "<span style=\"color:#4527A0\"><h1 style=\"font-size:18px\">Trial complete</h1></span>"
            ],
            "text/plain": [
              "<IPython.core.display.HTML object>"
            ]
          },
          "metadata": {
            "tags": []
          }
        },
        {
          "output_type": "display_data",
          "data": {
            "text/html": [
              "<span style=\"color:#4527A0\"><h1 style=\"font-size:18px\">Trial summary</h1></span>"
            ],
            "text/plain": [
              "<IPython.core.display.HTML object>"
            ]
          },
          "metadata": {
            "tags": []
          }
        },
        {
          "output_type": "display_data",
          "data": {
            "text/html": [
              "<span style=\"color:cyan\"> |-Trial ID: 13dd680fb303902d4414be53561887b4</span>"
            ],
            "text/plain": [
              "<IPython.core.display.HTML object>"
            ]
          },
          "metadata": {
            "tags": []
          }
        },
        {
          "output_type": "display_data",
          "data": {
            "text/html": [
              "<span style=\"color:cyan\"> |-Score: 81.21276092529297</span>"
            ],
            "text/plain": [
              "<IPython.core.display.HTML object>"
            ]
          },
          "metadata": {
            "tags": []
          }
        },
        {
          "output_type": "display_data",
          "data": {
            "text/html": [
              "<span style=\"color:cyan\"> |-Best step: 0</span>"
            ],
            "text/plain": [
              "<IPython.core.display.HTML object>"
            ]
          },
          "metadata": {
            "tags": []
          }
        },
        {
          "output_type": "display_data",
          "data": {
            "text/html": [
              "<span style=\"color:#7E57C2\"><h2 style=\"font-size:16px\">Hyperparameters:</h2></span>"
            ],
            "text/plain": [
              "<IPython.core.display.HTML object>"
            ]
          },
          "metadata": {
            "tags": []
          }
        },
        {
          "output_type": "display_data",
          "data": {
            "text/html": [
              "<span style=\"color:cyan\"> |-learning_rate: 0.01</span>"
            ],
            "text/plain": [
              "<IPython.core.display.HTML object>"
            ]
          },
          "metadata": {
            "tags": []
          }
        },
        {
          "output_type": "stream",
          "text": [
            "INFO:tensorflow:Oracle triggered exit\n"
          ],
          "name": "stdout"
        }
      ]
    },
    {
      "cell_type": "code",
      "metadata": {
        "id": "_NQ0_fmzqbCm",
        "colab_type": "code",
        "colab": {
          "base_uri": "https://localhost:8080/",
          "height": 51
        },
        "outputId": "1b659c16-eb5e-4d97-9001-e6f0114a2c88"
      },
      "source": [
        "# 4.2. Print the results of the best model\n",
        "best_model = tuner_rs.get_best_models(num_models=1)[0]\n",
        "best_model.evaluate(X_test, y_test)"
      ],
      "execution_count": null,
      "outputs": [
        {
          "output_type": "stream",
          "text": [
            "3/3 [==============================] - 0s 4ms/step - loss: 65.2563 - mse: 65.2563\n"
          ],
          "name": "stdout"
        },
        {
          "output_type": "execute_result",
          "data": {
            "text/plain": [
              "[65.25631713867188, 65.25631713867188]"
            ]
          },
          "metadata": {
            "tags": []
          },
          "execution_count": 19
        }
      ]
    },
    {
      "cell_type": "code",
      "metadata": {
        "id": "-ilsbFKjqcy-",
        "colab_type": "code",
        "colab": {
          "base_uri": "https://localhost:8080/",
          "height": 255
        },
        "outputId": "650355c2-cfb3-49b5-903c-c19c926db3bb"
      },
      "source": [
        "# 4.3. Print the best model's architecture\n",
        "best_model.summary()"
      ],
      "execution_count": null,
      "outputs": [
        {
          "output_type": "stream",
          "text": [
            "Model: \"sequential\"\n",
            "_________________________________________________________________\n",
            "Layer (type)                 Output Shape              Param #   \n",
            "=================================================================\n",
            "dense (Dense)                (None, 10)                140       \n",
            "_________________________________________________________________\n",
            "dense_1 (Dense)              (None, 8)                 88        \n",
            "_________________________________________________________________\n",
            "dense_2 (Dense)              (None, 1)                 9         \n",
            "=================================================================\n",
            "Total params: 237\n",
            "Trainable params: 237\n",
            "Non-trainable params: 0\n",
            "_________________________________________________________________\n"
          ],
          "name": "stdout"
        }
      ]
    },
    {
      "cell_type": "code",
      "metadata": {
        "id": "PDatcVHH-_3h",
        "colab_type": "code",
        "colab": {
          "base_uri": "https://localhost:8080/",
          "height": 197
        },
        "outputId": "d2fa00e9-26d7-447b-8094-b1d4c4d0c642"
      },
      "source": [
        "def plot_the_lost_curve(epochs, rmse):\n",
        "  plt.figure()\n",
        "  plt.xlabel(\"Epochs\")\n",
        "  plt.ylabel(\"RMSE\")\n",
        "  plt.plot(epochs, rmse, label=\"Loss\")\n",
        "  plt.legend()\n",
        "  plt.show()\n",
        "plot_the_lost_curve(hist.epoch,hist.hist['loss'])"
      ],
      "execution_count": null,
      "outputs": [
        {
          "output_type": "error",
          "ename": "AttributeError",
          "evalue": "ignored",
          "traceback": [
            "\u001b[0;31m---------------------------------------------------------------------------\u001b[0m",
            "\u001b[0;31mAttributeError\u001b[0m                            Traceback (most recent call last)",
            "\u001b[0;32m<ipython-input-30-27e12b99b90a>\u001b[0m in \u001b[0;36m<module>\u001b[0;34m()\u001b[0m\n\u001b[1;32m      6\u001b[0m   \u001b[0mplt\u001b[0m\u001b[0;34m.\u001b[0m\u001b[0mlegend\u001b[0m\u001b[0;34m(\u001b[0m\u001b[0;34m)\u001b[0m\u001b[0;34m\u001b[0m\u001b[0;34m\u001b[0m\u001b[0m\n\u001b[1;32m      7\u001b[0m   \u001b[0mplt\u001b[0m\u001b[0;34m.\u001b[0m\u001b[0mshow\u001b[0m\u001b[0;34m(\u001b[0m\u001b[0;34m)\u001b[0m\u001b[0;34m\u001b[0m\u001b[0;34m\u001b[0m\u001b[0m\n\u001b[0;32m----> 8\u001b[0;31m \u001b[0mplot_the_lost_curve\u001b[0m\u001b[0;34m(\u001b[0m\u001b[0mhist\u001b[0m\u001b[0;34m.\u001b[0m\u001b[0mepoch\u001b[0m\u001b[0;34m,\u001b[0m\u001b[0mhist\u001b[0m\u001b[0;34m.\u001b[0m\u001b[0mhist\u001b[0m\u001b[0;34m[\u001b[0m\u001b[0;34m'loss'\u001b[0m\u001b[0;34m]\u001b[0m\u001b[0;34m)\u001b[0m\u001b[0;34m\u001b[0m\u001b[0;34m\u001b[0m\u001b[0m\n\u001b[0m",
            "\u001b[0;31mAttributeError\u001b[0m: 'History' object has no attribute 'hist'"
          ]
        }
      ]
    },
    {
      "cell_type": "code",
      "metadata": {
        "id": "WVIRxpo4q732",
        "colab_type": "code",
        "colab": {}
      },
      "source": [
        "new_test_data = pd.read_csv('https://raw.githubusercontent.com/dphi-official/Datasets/master/Boston_Housing/Testing_set_boston.csv')\n",
        "best_model.predict(new_test_data)"
      ],
      "execution_count": null,
      "outputs": []
    }
  ]
}